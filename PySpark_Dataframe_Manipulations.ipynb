{
  "nbformat": 4,
  "nbformat_minor": 0,
  "metadata": {
    "colab": {
      "provenance": [],
      "gpuType": "T4",
      "authorship_tag": "ABX9TyP7dXn67mBvVOaEXjteZTSt",
      "include_colab_link": true
    },
    "kernelspec": {
      "name": "python3",
      "display_name": "Python 3"
    },
    "language_info": {
      "name": "python"
    },
    "accelerator": "GPU"
  },
  "cells": [
    {
      "cell_type": "markdown",
      "metadata": {
        "id": "view-in-github",
        "colab_type": "text"
      },
      "source": [
        "<a href=\"https://colab.research.google.com/github/ROARMarketingConcepts/PySpark-Projects/blob/main/PySpark_Dataframe_Manipulations.ipynb\" target=\"_parent\"><img src=\"https://colab.research.google.com/assets/colab-badge.svg\" alt=\"Open In Colab\"/></a>"
      ]
    },
    {
      "cell_type": "markdown",
      "source": [
        "# PySpark Dataframe Manipulations"
      ],
      "metadata": {
        "id": "ZZa381PcO3E5"
      }
    },
    {
      "cell_type": "code",
      "execution_count": null,
      "metadata": {
        "colab": {
          "base_uri": "https://localhost:8080/",
          "height": 695
        },
        "id": "9CocP2SZOwWk",
        "outputId": "dc442c75-615e-4c03-94ce-5e04ac330dc4"
      },
      "outputs": [
        {
          "output_type": "stream",
          "name": "stdout",
          "text": [
            "Hit:1 https://developer.download.nvidia.com/compute/cuda/repos/ubuntu2204/x86_64  InRelease\n",
            "Get:2 https://cloud.r-project.org/bin/linux/ubuntu jammy-cran40/ InRelease [3,632 B]\n",
            "Get:3 https://r2u.stat.illinois.edu/ubuntu jammy InRelease [6,555 B]\n",
            "Hit:4 https://ppa.launchpadcontent.net/deadsnakes/ppa/ubuntu jammy InRelease\n",
            "Hit:5 https://ppa.launchpadcontent.net/graphics-drivers/ppa/ubuntu jammy InRelease\n",
            "Hit:6 https://ppa.launchpadcontent.net/ubuntugis/ppa/ubuntu jammy InRelease\n",
            "Get:7 http://security.ubuntu.com/ubuntu jammy-security InRelease [129 kB]\n",
            "Hit:8 http://archive.ubuntu.com/ubuntu jammy InRelease\n",
            "Get:9 http://archive.ubuntu.com/ubuntu jammy-updates InRelease [128 kB]\n",
            "Get:10 https://r2u.stat.illinois.edu/ubuntu jammy/main all Packages [8,926 kB]\n",
            "Get:11 http://archive.ubuntu.com/ubuntu jammy-backports InRelease [127 kB]\n",
            "Get:12 https://r2u.stat.illinois.edu/ubuntu jammy/main amd64 Packages [2,720 kB]\n",
            "Get:13 http://security.ubuntu.com/ubuntu jammy-security/main amd64 Packages [2,901 kB]\n",
            "Get:14 http://archive.ubuntu.com/ubuntu jammy-updates/universe amd64 Packages [1,546 kB]\n",
            "Get:15 http://security.ubuntu.com/ubuntu jammy-security/universe amd64 Packages [1,245 kB]\n",
            "Get:16 http://archive.ubuntu.com/ubuntu jammy-updates/main amd64 Packages [3,211 kB]\n",
            "Fetched 20.9 MB in 8s (2,758 kB/s)\n",
            "Reading package lists... Done\n",
            "Building dependency tree... Done\n",
            "Reading state information... Done\n",
            "34 packages can be upgraded. Run 'apt list --upgradable' to see them.\n",
            "\u001b[1;33mW: \u001b[0mSkipping acquire of configured file 'main/source/Sources' as repository 'https://r2u.stat.illinois.edu/ubuntu jammy InRelease' does not seem to provide it (sources.list entry misspelt?)\u001b[0m\n",
            "tar: spark-3.2.1-bin-hadoop3.2.tgz: Cannot open: No such file or directory\n",
            "tar: Error is not recoverable: exiting now\n",
            "Requirement already satisfied: pyspark in /usr/local/lib/python3.11/dist-packages (3.5.1)\n",
            "Requirement already satisfied: py4j==0.10.9.7 in /usr/local/lib/python3.11/dist-packages (from pyspark) (0.10.9.7)\n",
            "Requirement already satisfied: py4j in /usr/local/lib/python3.11/dist-packages (0.10.9.7)\n"
          ]
        },
        {
          "output_type": "execute_result",
          "data": {
            "text/plain": [
              "<pyspark.sql.session.SparkSession at 0x7a4dfec693d0>"
            ],
            "text/html": [
              "\n",
              "            <div>\n",
              "                <p><b>SparkSession - in-memory</b></p>\n",
              "                \n",
              "        <div>\n",
              "            <p><b>SparkContext</b></p>\n",
              "\n",
              "            <p><a href=\"http://91f7167907d4:4040\">Spark UI</a></p>\n",
              "\n",
              "            <dl>\n",
              "              <dt>Version</dt>\n",
              "                <dd><code>v3.5.1</code></dd>\n",
              "              <dt>Master</dt>\n",
              "                <dd><code>local[*]</code></dd>\n",
              "              <dt>AppName</dt>\n",
              "                <dd><code>PySpark Book Ch. 3</code></dd>\n",
              "            </dl>\n",
              "        </div>\n",
              "        \n",
              "            </div>\n",
              "        "
            ]
          },
          "metadata": {},
          "execution_count": 1
        }
      ],
      "source": [
        "!sudo apt update\n",
        "!apt-get install openjdk-8-jdk-headless -qq > /dev/null\n",
        "#Check this site for the latest download link https://www.apache.org/dyn/closer.lua/spark/spark-3.2.1/spark-3.2.1-bin-hadoop3.2.tgz\n",
        "!wget -q https://dlcdn.apache.org/spark/spark-3.2.1/spark-3.2.1-bin-hadoop3.2.tgz\n",
        "!tar xf spark-3.2.1-bin-hadoop3.2.tgz\n",
        "!pip install -q findspark\n",
        "!pip install pyspark\n",
        "!pip install py4j\n",
        "\n",
        "import os\n",
        "import sys\n",
        "# os.environ[\"JAVA_HOME\"] = \"/usr/lib/jvm/java-8-openjdk-amd64\"\n",
        "# os.environ[\"SPARK_HOME\"] = \"/content/spark-3.2.1-bin-hadoop3.2\"\n",
        "\n",
        "\n",
        "import findspark\n",
        "findspark.init()\n",
        "findspark.find()\n",
        "\n",
        "import pyspark\n",
        "\n",
        "from pyspark import SparkConf, SparkContext\n",
        "from pyspark.sql import DataFrame, SparkSession\n",
        "from typing import List\n",
        "import pyspark.sql.types as T\n",
        "import pyspark.sql.functions as F\n",
        "\n",
        "spark= SparkSession \\\n",
        "       .builder \\\n",
        "       .appName(\"PySpark Book Ch. 3\") \\\n",
        "       .getOrCreate()\n",
        "\n",
        "spark"
      ]
    },
    {
      "cell_type": "code",
      "source": [
        "from google.colab import drive\n",
        "drive.mount('/content/drive')"
      ],
      "metadata": {
        "colab": {
          "base_uri": "https://localhost:8080/"
        },
        "id": "OGa2Yp05PzC5",
        "outputId": "191453da-3cc4-4b7c-a65f-a8cc55fea37d"
      },
      "execution_count": null,
      "outputs": [
        {
          "output_type": "stream",
          "name": "stdout",
          "text": [
            "Mounted at /content/drive\n"
          ]
        }
      ]
    },
    {
      "cell_type": "markdown",
      "source": [
        "Read in the datasets"
      ],
      "metadata": {
        "id": "gS8RZb2DQZ81"
      }
    },
    {
      "cell_type": "code",
      "source": [
        "file_path = '/content/drive/MyDrive/Colab_Notebooks/PySpark Data Analysis/Advanced Analytics With PySpark - OReilly/profiledata_06-May-2005/'\n",
        "\n",
        "raw_user_artist_data = spark.read.text(file_path+'user_artist_data.txt')\n",
        "raw_user_artist_data.show()"
      ],
      "metadata": {
        "id": "K2YvkRvOjGwV",
        "colab": {
          "base_uri": "https://localhost:8080/"
        },
        "outputId": "fbc574a7-c985-4a99-af13-1684e3410fec"
      },
      "execution_count": null,
      "outputs": [
        {
          "output_type": "stream",
          "name": "stdout",
          "text": [
            "+-------------------+\n",
            "|              value|\n",
            "+-------------------+\n",
            "|       1000002 1 55|\n",
            "| 1000002 1000006 33|\n",
            "|  1000002 1000007 8|\n",
            "|1000002 1000009 144|\n",
            "|1000002 1000010 314|\n",
            "|  1000002 1000013 8|\n",
            "| 1000002 1000014 42|\n",
            "| 1000002 1000017 69|\n",
            "|1000002 1000024 329|\n",
            "|  1000002 1000025 1|\n",
            "| 1000002 1000028 17|\n",
            "| 1000002 1000031 47|\n",
            "| 1000002 1000033 15|\n",
            "|  1000002 1000042 1|\n",
            "|  1000002 1000045 1|\n",
            "|  1000002 1000054 2|\n",
            "| 1000002 1000055 25|\n",
            "|  1000002 1000056 4|\n",
            "|  1000002 1000059 2|\n",
            "| 1000002 1000062 71|\n",
            "+-------------------+\n",
            "only showing top 20 rows\n",
            "\n"
          ]
        }
      ]
    },
    {
      "cell_type": "code",
      "source": [
        "raw_artist_data = spark.read.text(file_path+'artist_data.txt')\n",
        "raw_artist_data.show()"
      ],
      "metadata": {
        "colab": {
          "base_uri": "https://localhost:8080/"
        },
        "id": "1nrrin__hjuz",
        "outputId": "0afbbeb0-1fc0-4833-fb27-a932118d1b91"
      },
      "execution_count": null,
      "outputs": [
        {
          "output_type": "stream",
          "name": "stdout",
          "text": [
            "+--------------------+\n",
            "|               value|\n",
            "+--------------------+\n",
            "|1134999\\t06Crazy ...|\n",
            "|6821360\\tPang Nak...|\n",
            "|10113088\\tTerfel,...|\n",
            "|10151459\\tThe Fla...|\n",
            "|6826647\\tBodensta...|\n",
            "|10186265\\tJota Qu...|\n",
            "|6828986\\tToto_XX ...|\n",
            "|10236364\\tU.S Bom...|\n",
            "|1135000\\tartist f...|\n",
            "|10299728\\tKassier...|\n",
            "|10299744\\tRahzel,...|\n",
            "|6864258\\tJon Rich...|\n",
            "|6878791\\tYoung Fr...|\n",
            "|10299751\\tKi-ya-Kiss|\n",
            "|6909716\\tUndermin...|\n",
            "|   10435121\\tKox-Box|\n",
            "|6918061\\talexison...|\n",
            "|1135001\\tdj salinger|\n",
            "|6940391\\tThe B52'...|\n",
            "|   10475396\\t44 Hoes|\n",
            "+--------------------+\n",
            "only showing top 20 rows\n",
            "\n"
          ]
        }
      ]
    },
    {
      "cell_type": "code",
      "source": [
        "raw_artist_alias = spark.read.text(file_path+'artist_alias.txt')\n",
        "raw_artist_alias.show()"
      ],
      "metadata": {
        "id": "A6WIkmYYh8rR",
        "outputId": "9e1df159-d4c5-4a05-e85d-041c0a32f9f8",
        "colab": {
          "base_uri": "https://localhost:8080/"
        }
      },
      "execution_count": null,
      "outputs": [
        {
          "output_type": "stream",
          "name": "stdout",
          "text": [
            "+-----------------+\n",
            "|            value|\n",
            "+-----------------+\n",
            "| 1092764\\t1000311|\n",
            "| 1095122\\t1000557|\n",
            "| 6708070\\t1007267|\n",
            "|10088054\\t1042317|\n",
            "| 1195917\\t1042317|\n",
            "| 1112006\\t1000557|\n",
            "| 1187350\\t1294511|\n",
            "| 1116694\\t1327092|\n",
            "| 6793225\\t1042317|\n",
            "| 1079959\\t1000557|\n",
            "| 6789612\\t1000591|\n",
            "| 1262241\\t1000591|\n",
            "| 6791455\\t1000591|\n",
            "| 6694867\\t1000591|\n",
            "|10141141\\t1113738|\n",
            "| 1295140\\t1000591|\n",
            "| 1027859\\t1252408|\n",
            "| 2127019\\t1000591|\n",
            "| 2153974\\t1000591|\n",
            "| 1232342\\t1000591|\n",
            "+-----------------+\n",
            "only showing top 20 rows\n",
            "\n"
          ]
        }
      ]
    },
    {
      "cell_type": "code",
      "source": [
        "from pyspark.sql.types import IntegerType, StringType\n",
        "\n",
        "user_artist_df = raw_user_artist_data.withColumn('user',\n",
        "                                    F.split(raw_user_artist_data['value'], ' ').\\\n",
        "                                    getItem(0).\\\n",
        "                                    cast(IntegerType()))\n",
        "user_artist_df = user_artist_df.withColumn('artist',\n",
        "                                    F.split(raw_user_artist_data['value'], ' ').\\\n",
        "                                    getItem(1).\\\n",
        "                                    cast(IntegerType()))\n",
        "user_artist_df = user_artist_df.withColumn('count',\n",
        "                                    F.split(raw_user_artist_data['value'], ' ').\\\n",
        "                                    getItem(2).\\\n",
        "                                    cast(IntegerType())).drop('value')\n",
        "\n",
        "user_artist_df.select([F.min(\"user\"), F.max(\"user\"), F.min(\"artist\"),F.max(\"artist\")]).show()"
      ],
      "metadata": {
        "colab": {
          "base_uri": "https://localhost:8080/"
        },
        "id": "p_FclpdvRPRe",
        "outputId": "313278d3-0e0d-475c-a62f-f11ad8c264bb"
      },
      "execution_count": null,
      "outputs": [
        {
          "output_type": "stream",
          "name": "stdout",
          "text": [
            "+---------+---------+-----------+-----------+\n",
            "|min(user)|max(user)|min(artist)|max(artist)|\n",
            "+---------+---------+-----------+-----------+\n",
            "|       90|  2443548|          1|   10794401|\n",
            "+---------+---------+-----------+-----------+\n",
            "\n"
          ]
        }
      ]
    },
    {
      "cell_type": "code",
      "source": [
        "user_artist_df.show()"
      ],
      "metadata": {
        "colab": {
          "base_uri": "https://localhost:8080/"
        },
        "id": "AKR4CccdUg7z",
        "outputId": "108ba109-3f8a-42a0-a03e-dbb779f0534c"
      },
      "execution_count": null,
      "outputs": [
        {
          "output_type": "stream",
          "name": "stdout",
          "text": [
            "+-------+-------+-----+\n",
            "|   user| artist|count|\n",
            "+-------+-------+-----+\n",
            "|1000002|      1|   55|\n",
            "|1000002|1000006|   33|\n",
            "|1000002|1000007|    8|\n",
            "|1000002|1000009|  144|\n",
            "|1000002|1000010|  314|\n",
            "|1000002|1000013|    8|\n",
            "|1000002|1000014|   42|\n",
            "|1000002|1000017|   69|\n",
            "|1000002|1000024|  329|\n",
            "|1000002|1000025|    1|\n",
            "|1000002|1000028|   17|\n",
            "|1000002|1000031|   47|\n",
            "|1000002|1000033|   15|\n",
            "|1000002|1000042|    1|\n",
            "|1000002|1000045|    1|\n",
            "|1000002|1000054|    2|\n",
            "|1000002|1000055|   25|\n",
            "|1000002|1000056|    4|\n",
            "|1000002|1000059|    2|\n",
            "|1000002|1000062|   71|\n",
            "+-------+-------+-----+\n",
            "only showing top 20 rows\n",
            "\n"
          ]
        }
      ]
    },
    {
      "cell_type": "code",
      "source": [
        "artist_by_id_df = raw_artist_data.withColumn('id',\n",
        "                                    F.split(raw_artist_data['value'], '\\t').\\\n",
        "                                    getItem(0).\\\n",
        "                                    cast(IntegerType()))\n",
        "artist_by_id_df = artist_by_id_df.withColumn('artist',\n",
        "                                    F.split(raw_artist_data['value'], '\\t').\\\n",
        "                                    getItem(1)).drop('value')\n",
        "\n",
        "artist_by_id_df.show()"
      ],
      "metadata": {
        "colab": {
          "base_uri": "https://localhost:8080/"
        },
        "id": "uiiC8MJ_cu_5",
        "outputId": "18135cb4-9777-4669-f574-bb9731c90854"
      },
      "execution_count": null,
      "outputs": [
        {
          "output_type": "stream",
          "name": "stdout",
          "text": [
            "+--------+--------------------+\n",
            "|      id|              artist|\n",
            "+--------+--------------------+\n",
            "| 1134999|        06Crazy Life|\n",
            "| 6821360|        Pang Nakarin|\n",
            "|10113088|Terfel, Bartoli- ...|\n",
            "|10151459| The Flaming Sidebur|\n",
            "| 6826647|   Bodenstandig 3000|\n",
            "|10186265|Jota Quest e Ivet...|\n",
            "| 6828986|       Toto_XX (1977|\n",
            "|10236364|         U.S Bombs -|\n",
            "| 1135000|artist formaly kn...|\n",
            "|10299728|Kassierer - Musik...|\n",
            "|10299744|         Rahzel, RZA|\n",
            "| 6864258|      Jon Richardson|\n",
            "| 6878791|Young Fresh Fello...|\n",
            "|10299751|          Ki-ya-Kiss|\n",
            "| 6909716|Underminded - The...|\n",
            "|10435121|             Kox-Box|\n",
            "| 6918061|  alexisonfire [wo!]|\n",
            "| 1135001|         dj salinger|\n",
            "| 6940391|The B52's - Chann...|\n",
            "|10475396|             44 Hoes|\n",
            "+--------+--------------------+\n",
            "only showing top 20 rows\n",
            "\n"
          ]
        }
      ]
    },
    {
      "cell_type": "code",
      "source": [
        "artist_alias_df = raw_artist_alias.withColumn('id', F.split(raw_artist_alias['value'], '\\t').getItem(0).cast(IntegerType()))\n",
        "artist_alias_df = artist_alias_df.withColumn('alias', F.split(raw_artist_alias['value'], '\\t').getItem(1).cast(IntegerType())).drop('value')\n",
        "\n",
        "artist_alias_df.show()"
      ],
      "metadata": {
        "colab": {
          "base_uri": "https://localhost:8080/"
        },
        "id": "wU-W0pcCePrA",
        "outputId": "390c02e0-18a5-4457-a8cd-80ece576c462"
      },
      "execution_count": null,
      "outputs": [
        {
          "output_type": "stream",
          "name": "stdout",
          "text": [
            "+--------+-------+\n",
            "|      id|  alias|\n",
            "+--------+-------+\n",
            "| 1092764|1000311|\n",
            "| 1095122|1000557|\n",
            "| 6708070|1007267|\n",
            "|10088054|1042317|\n",
            "| 1195917|1042317|\n",
            "| 1112006|1000557|\n",
            "| 1187350|1294511|\n",
            "| 1116694|1327092|\n",
            "| 6793225|1042317|\n",
            "| 1079959|1000557|\n",
            "| 6789612|1000591|\n",
            "| 1262241|1000591|\n",
            "| 6791455|1000591|\n",
            "| 6694867|1000591|\n",
            "|10141141|1113738|\n",
            "| 1295140|1000591|\n",
            "| 1027859|1252408|\n",
            "| 2127019|1000591|\n",
            "| 2153974|1000591|\n",
            "| 1232342|1000591|\n",
            "+--------+-------+\n",
            "only showing top 20 rows\n",
            "\n"
          ]
        }
      ]
    },
    {
      "cell_type": "code",
      "source": [
        "artist_by_id_df.filter(artist_by_id_df.id.isin(1092764, 1000311)).show()"
      ],
      "metadata": {
        "colab": {
          "base_uri": "https://localhost:8080/"
        },
        "id": "r6TQxDSiheVq",
        "outputId": "c707910e-0bb2-4060-93c9-ba1fa0e48296"
      },
      "execution_count": null,
      "outputs": [
        {
          "output_type": "stream",
          "name": "stdout",
          "text": [
            "+-------+--------------+\n",
            "|     id|        artist|\n",
            "+-------+--------------+\n",
            "|1000311| Steve Winwood|\n",
            "|1092764|Winwood, Steve|\n",
            "+-------+--------------+\n",
            "\n"
          ]
        }
      ]
    },
    {
      "cell_type": "markdown",
      "source": [
        "To join `user_artist_df` with `artist_alias_df`, we broadcast the `artist_alias_df` DataFrame created earlier. This makes Spark send and hold in memory just one copy for each executor in the cluster. It's important to note that broadcasting is most effective when one DataFrame is significantly smaller than the other."
      ],
      "metadata": {
        "id": "Ihgf0k1xihUZ"
      }
    },
    {
      "cell_type": "code",
      "source": [
        "from pyspark.sql.functions import broadcast, when\n",
        "\n",
        "train_data = user_artist_df.join(broadcast(artist_alias_df), user_artist_df.artist == artist_alias_df.id, how='left')\n",
        "train_data.show()"
      ],
      "metadata": {
        "colab": {
          "base_uri": "https://localhost:8080/"
        },
        "id": "N_3qmg_nkTl0",
        "outputId": "ede60169-d772-462b-8464-1d8841d95f31"
      },
      "execution_count": null,
      "outputs": [
        {
          "output_type": "stream",
          "name": "stdout",
          "text": [
            "+-------+-------+-----+----+-----+\n",
            "|   user| artist|count|  id|alias|\n",
            "+-------+-------+-----+----+-----+\n",
            "|1000002|      1|   55|NULL| NULL|\n",
            "|1000002|1000006|   33|NULL| NULL|\n",
            "|1000002|1000007|    8|NULL| NULL|\n",
            "|1000002|1000009|  144|NULL| NULL|\n",
            "|1000002|1000010|  314|NULL| NULL|\n",
            "|1000002|1000013|    8|NULL| NULL|\n",
            "|1000002|1000014|   42|NULL| NULL|\n",
            "|1000002|1000017|   69|NULL| NULL|\n",
            "|1000002|1000024|  329|NULL| NULL|\n",
            "|1000002|1000025|    1|NULL| NULL|\n",
            "|1000002|1000028|   17|NULL| NULL|\n",
            "|1000002|1000031|   47|NULL| NULL|\n",
            "|1000002|1000033|   15|NULL| NULL|\n",
            "|1000002|1000042|    1|NULL| NULL|\n",
            "|1000002|1000045|    1|NULL| NULL|\n",
            "|1000002|1000054|    2|NULL| NULL|\n",
            "|1000002|1000055|   25|NULL| NULL|\n",
            "|1000002|1000056|    4|NULL| NULL|\n",
            "|1000002|1000059|    2|NULL| NULL|\n",
            "|1000002|1000062|   71|NULL| NULL|\n",
            "+-------+-------+-----+----+-----+\n",
            "only showing top 20 rows\n",
            "\n"
          ]
        }
      ]
    },
    {
      "cell_type": "markdown",
      "source": [
        "Making sure our `join` worked as expected..."
      ],
      "metadata": {
        "id": "yEUtCuldmQlQ"
      }
    },
    {
      "cell_type": "code",
      "source": [
        "value_counts_df = train_data.groupBy(\"id\").count().orderBy(F.col(\"count\").desc())\n",
        "value_counts_df.show()"
      ],
      "metadata": {
        "colab": {
          "base_uri": "https://localhost:8080/"
        },
        "id": "GJMkirwTl4H0",
        "outputId": "3633e5eb-8f94-4d9a-d44f-c00fa12efa52"
      },
      "execution_count": null,
      "outputs": [
        {
          "output_type": "stream",
          "name": "stdout",
          "text": [
            "+-------+--------+\n",
            "|     id|   count|\n",
            "+-------+--------+\n",
            "|   NULL|23878789|\n",
            "|     15|   22911|\n",
            "|    709|   17683|\n",
            "|    754|   14969|\n",
            "|1001864|    9272|\n",
            "|   5702|    8232|\n",
            "|1014609|    5291|\n",
            "|1006322|    5268|\n",
            "|1000129|    3790|\n",
            "|1002498|    2967|\n",
            "|1006102|    2558|\n",
            "|1004580|    2291|\n",
            "|1008798|    2234|\n",
            "|1018110|    1787|\n",
            "|1002139|    1761|\n",
            "|1008455|    1474|\n",
            "|2075188|    1353|\n",
            "|1000110|    1145|\n",
            "|1003801|    1117|\n",
            "|1014175|    1113|\n",
            "+-------+--------+\n",
            "only showing top 20 rows\n",
            "\n"
          ]
        }
      ]
    },
    {
      "cell_type": "markdown",
      "source": [
        "Get artist’s alias if it exists; otherwise, get original artist."
      ],
      "metadata": {
        "id": "arrnUpKKnGkS"
      }
    },
    {
      "cell_type": "code",
      "source": [
        "train_data = train_data.withColumn('artist',\n",
        "                                    when(F.col('alias').isNull(), F.col('artist')).\\\n",
        "                                    otherwise(F.col('alias')))\n",
        "train_data.show()"
      ],
      "metadata": {
        "colab": {
          "base_uri": "https://localhost:8080/"
        },
        "id": "spwJPlysnAaj",
        "outputId": "153f1e64-3edb-4c98-a742-2a56025fc8dd"
      },
      "execution_count": null,
      "outputs": [
        {
          "output_type": "stream",
          "name": "stdout",
          "text": [
            "+-------+-------+-----+----+-----+\n",
            "|   user| artist|count|  id|alias|\n",
            "+-------+-------+-----+----+-----+\n",
            "|1000002|      1|   55|NULL| NULL|\n",
            "|1000002|1000006|   33|NULL| NULL|\n",
            "|1000002|1000007|    8|NULL| NULL|\n",
            "|1000002|1000009|  144|NULL| NULL|\n",
            "|1000002|1000010|  314|NULL| NULL|\n",
            "|1000002|1000013|    8|NULL| NULL|\n",
            "|1000002|1000014|   42|NULL| NULL|\n",
            "|1000002|1000017|   69|NULL| NULL|\n",
            "|1000002|1000024|  329|NULL| NULL|\n",
            "|1000002|1000025|    1|NULL| NULL|\n",
            "|1000002|1000028|   17|NULL| NULL|\n",
            "|1000002|1000031|   47|NULL| NULL|\n",
            "|1000002|1000033|   15|NULL| NULL|\n",
            "|1000002|1000042|    1|NULL| NULL|\n",
            "|1000002|1000045|    1|NULL| NULL|\n",
            "|1000002|1000054|    2|NULL| NULL|\n",
            "|1000002|1000055|   25|NULL| NULL|\n",
            "|1000002|1000056|    4|NULL| NULL|\n",
            "|1000002|1000059|    2|NULL| NULL|\n",
            "|1000002|1000062|   71|NULL| NULL|\n",
            "+-------+-------+-----+----+-----+\n",
            "only showing top 20 rows\n",
            "\n"
          ]
        }
      ]
    },
    {
      "cell_type": "code",
      "source": [
        "train_data.printSchema()"
      ],
      "metadata": {
        "colab": {
          "base_uri": "https://localhost:8080/"
        },
        "id": "2sMwOJrmnT2F",
        "outputId": "84f67fd5-77a2-4742-d785-987f31a5dc83"
      },
      "execution_count": null,
      "outputs": [
        {
          "output_type": "stream",
          "name": "stdout",
          "text": [
            "root\n",
            " |-- user: integer (nullable = true)\n",
            " |-- artist: integer (nullable = true)\n",
            " |-- count: integer (nullable = true)\n",
            " |-- id: integer (nullable = true)\n",
            " |-- alias: integer (nullable = true)\n",
            "\n"
          ]
        }
      ]
    },
    {
      "cell_type": "code",
      "source": [
        "train_data = train_data.withColumn('artist', F.col('artist').\\\n",
        "                                             cast(IntegerType())).\\\n",
        "                                             drop('alias')\n",
        "train_data.show()"
      ],
      "metadata": {
        "colab": {
          "base_uri": "https://localhost:8080/"
        },
        "id": "PmtWlKXGpAcs",
        "outputId": "b0d3a842-3b95-415c-ff5e-29322d289eb1"
      },
      "execution_count": null,
      "outputs": [
        {
          "output_type": "stream",
          "name": "stdout",
          "text": [
            "+-------+-------+-----+----+\n",
            "|   user| artist|count|  id|\n",
            "+-------+-------+-----+----+\n",
            "|1000002|      1|   55|NULL|\n",
            "|1000002|1000006|   33|NULL|\n",
            "|1000002|1000007|    8|NULL|\n",
            "|1000002|1000009|  144|NULL|\n",
            "|1000002|1000010|  314|NULL|\n",
            "|1000002|1000013|    8|NULL|\n",
            "|1000002|1000014|   42|NULL|\n",
            "|1000002|1000017|   69|NULL|\n",
            "|1000002|1000024|  329|NULL|\n",
            "|1000002|1000025|    1|NULL|\n",
            "|1000002|1000028|   17|NULL|\n",
            "|1000002|1000031|   47|NULL|\n",
            "|1000002|1000033|   15|NULL|\n",
            "|1000002|1000042|    1|NULL|\n",
            "|1000002|1000045|    1|NULL|\n",
            "|1000002|1000054|    2|NULL|\n",
            "|1000002|1000055|   25|NULL|\n",
            "|1000002|1000056|    4|NULL|\n",
            "|1000002|1000059|    2|NULL|\n",
            "|1000002|1000062|   71|NULL|\n",
            "+-------+-------+-----+----+\n",
            "only showing top 20 rows\n",
            "\n"
          ]
        }
      ]
    },
    {
      "cell_type": "code",
      "source": [
        "train_data.cache()\n",
        "train_data.count()"
      ],
      "metadata": {
        "colab": {
          "base_uri": "https://localhost:8080/"
        },
        "id": "hY_c8691YRYT",
        "outputId": "914116d2-f8b8-4564-fe5a-b46a4953ad04"
      },
      "execution_count": null,
      "outputs": [
        {
          "output_type": "execute_result",
          "data": {
            "text/plain": [
              "24296858"
            ]
          },
          "metadata": {},
          "execution_count": 16
        }
      ]
    },
    {
      "cell_type": "code",
      "source": [
        "from pyspark.ml.recommendation import ALS\n",
        "\n",
        "model = ALS(rank=10, seed=0, maxIter=5, regParam=0.1,\n",
        "            implicitPrefs=True, alpha=1.0, userCol='user',\n",
        "            itemCol='artist', ratingCol='count'). \\\n",
        "        fit(train_data)"
      ],
      "metadata": {
        "id": "yUDO5R3wbx86"
      },
      "execution_count": null,
      "outputs": []
    },
    {
      "cell_type": "code",
      "source": [
        "model.userFactors.show(1, truncate=False)"
      ],
      "metadata": {
        "colab": {
          "base_uri": "https://localhost:8080/"
        },
        "id": "UMQ3p9Nwe6yB",
        "outputId": "e27c70cc-8766-464c-eba0-18bb13e85643"
      },
      "execution_count": null,
      "outputs": [
        {
          "output_type": "stream",
          "name": "stdout",
          "text": [
            "+---+------------------------------------------------------------------------------------------------------------------------------+\n",
            "|id |features                                                                                                                      |\n",
            "+---+------------------------------------------------------------------------------------------------------------------------------+\n",
            "|90 |[0.16020624, 0.20717518, -0.17194684, 0.06038469, 0.062727705, 0.54658705, -0.40481892, 0.43657345, -0.10396775, -0.042728312]|\n",
            "+---+------------------------------------------------------------------------------------------------------------------------------+\n",
            "only showing top 1 row\n",
            "\n"
          ]
        }
      ]
    },
    {
      "cell_type": "code",
      "source": [
        "user_id = 2093760\n",
        "existing_artist_ids = train_data.filter(train_data.user == user_id).select('artist').collect()\n",
        "existing_artist_ids"
      ],
      "metadata": {
        "colab": {
          "base_uri": "https://localhost:8080/"
        },
        "id": "U30d9iWgAp7y",
        "outputId": "673fd3e9-e25b-4a22-bace-2fe43b1f0d49"
      },
      "execution_count": null,
      "outputs": [
        {
          "output_type": "execute_result",
          "data": {
            "text/plain": [
              "[Row(artist=1180),\n",
              " Row(artist=1255340),\n",
              " Row(artist=378),\n",
              " Row(artist=813),\n",
              " Row(artist=942)]"
            ]
          },
          "metadata": {},
          "execution_count": 25
        }
      ]
    },
    {
      "cell_type": "code",
      "source": [
        "existing_artist_ids = [i[0] for i in existing_artist_ids]\n",
        "existing_artist_ids"
      ],
      "metadata": {
        "colab": {
          "base_uri": "https://localhost:8080/"
        },
        "id": "-lhzwpkhB0qa",
        "outputId": "16829089-df6f-4111-953a-facaa7f7b7d2"
      },
      "execution_count": null,
      "outputs": [
        {
          "output_type": "execute_result",
          "data": {
            "text/plain": [
              "[1180, 1255340, 378, 813, 942]"
            ]
          },
          "metadata": {},
          "execution_count": 26
        }
      ]
    },
    {
      "cell_type": "code",
      "source": [
        "artist_by_id_df.filter(artist_by_id_df.id.isin(existing_artist_ids)).show()"
      ],
      "metadata": {
        "colab": {
          "base_uri": "https://localhost:8080/"
        },
        "id": "UjkINnSGCB1S",
        "outputId": "772e379c-c7b7-4d2d-ce87-a365be12d64a"
      },
      "execution_count": null,
      "outputs": [
        {
          "output_type": "stream",
          "name": "stdout",
          "text": [
            "+-------+---------------+\n",
            "|     id|         artist|\n",
            "+-------+---------------+\n",
            "|   1180|     David Gray|\n",
            "|    378|  Blackalicious|\n",
            "|    813|     Jurassic 5|\n",
            "|1255340|The Saw Doctors|\n",
            "|    942|         Xzibit|\n",
            "+-------+---------------+\n",
            "\n"
          ]
        }
      ]
    },
    {
      "cell_type": "code",
      "source": [
        "user_subset = train_data.select('user').where(F.col('user') == user_id).distinct()\n",
        "user_subset.show()"
      ],
      "metadata": {
        "colab": {
          "base_uri": "https://localhost:8080/"
        },
        "id": "R8rBUwfeC1lE",
        "outputId": "4ca11ebd-b80e-42be-ee0c-526092cb8291"
      },
      "execution_count": null,
      "outputs": [
        {
          "output_type": "stream",
          "name": "stdout",
          "text": [
            "+-------+\n",
            "|   user|\n",
            "+-------+\n",
            "|2093760|\n",
            "+-------+\n",
            "\n"
          ]
        }
      ]
    },
    {
      "cell_type": "code",
      "source": [
        "top_predictions = model.recommendForUserSubset(user_subset, 5)\n",
        "top_predictions.show()"
      ],
      "metadata": {
        "colab": {
          "base_uri": "https://localhost:8080/"
        },
        "id": "Ui3FjNNGDE0b",
        "outputId": "b3ba130f-61ef-480c-9168-dca8d6db4ad4"
      },
      "execution_count": null,
      "outputs": [
        {
          "output_type": "stream",
          "name": "stdout",
          "text": [
            "+-------+--------------------+\n",
            "|   user|     recommendations|\n",
            "+-------+--------------------+\n",
            "|2093760|[{2814, 0.0294106...|\n",
            "+-------+--------------------+\n",
            "\n"
          ]
        }
      ]
    },
    {
      "cell_type": "code",
      "source": [
        "top_predictions_exploded = top_predictions.select('user', F.explode('recommendations').alias('rec'))\n",
        "top_predictions_exploded = top_predictions_exploded.select('user', 'rec.artist', 'rec.rating')\n",
        "top_predictions_exploded.show()"
      ],
      "metadata": {
        "colab": {
          "base_uri": "https://localhost:8080/"
        },
        "id": "vS_LluHJDb_q",
        "outputId": "b9f982c3-f79a-46b9-e9a0-c220b0ea150e"
      },
      "execution_count": null,
      "outputs": [
        {
          "output_type": "stream",
          "name": "stdout",
          "text": [
            "+-------+-------+-----------+\n",
            "|   user| artist|     rating|\n",
            "+-------+-------+-----------+\n",
            "|2093760|   2814|0.029410677|\n",
            "|2093760|1300642|0.028404651|\n",
            "|2093760|1001819|0.028333459|\n",
            "|2093760|1007614|0.027992856|\n",
            "|2093760|   4605|0.027890977|\n",
            "+-------+-------+-----------+\n",
            "\n"
          ]
        }
      ]
    },
    {
      "cell_type": "code",
      "source": [
        "top_predictions_exploded.join(artist_by_id_df, top_predictions_exploded.artist == artist_by_id_df.id).drop('id').show()"
      ],
      "metadata": {
        "colab": {
          "base_uri": "https://localhost:8080/"
        },
        "id": "WFMqwmzRD-4c",
        "outputId": "802677a8-5bb1-49e5-f274-33b1a8aa14c3"
      },
      "execution_count": null,
      "outputs": [
        {
          "output_type": "stream",
          "name": "stdout",
          "text": [
            "+-------+-------+-----------+----------+\n",
            "|   user| artist|     rating|    artist|\n",
            "+-------+-------+-----------+----------+\n",
            "|2093760|   2814|0.029410677|   50 Cent|\n",
            "|2093760|   4605|0.027890977|Snoop Dogg|\n",
            "|2093760|1007614|0.027992856|     Jay-Z|\n",
            "|2093760|1001819|0.028333459|      2Pac|\n",
            "|2093760|1300642|0.028404651|  The Game|\n",
            "+-------+-------+-----------+----------+\n",
            "\n"
          ]
        }
      ]
    }
  ]
}