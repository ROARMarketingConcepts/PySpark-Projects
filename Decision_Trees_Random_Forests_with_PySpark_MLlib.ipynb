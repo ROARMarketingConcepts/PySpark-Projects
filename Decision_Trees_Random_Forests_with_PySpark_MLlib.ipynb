{
  "cells": [
    {
      "cell_type": "markdown",
      "metadata": {
        "id": "view-in-github",
        "colab_type": "text"
      },
      "source": [
        "<a href=\"https://colab.research.google.com/github/ROARMarketingConcepts/PySpark-Projects/blob/main/Decision_Trees_Random_Forests_with_PySpark_MLlib.ipynb\" target=\"_parent\"><img src=\"https://colab.research.google.com/assets/colab-badge.svg\" alt=\"Open In Colab\"/></a>"
      ]
    },
    {
      "cell_type": "markdown",
      "metadata": {
        "id": "SENkzai8hfQj"
      },
      "source": [
        "# Decision Trees/Random Forests with PySpark MLlib\n"
      ]
    },
    {
      "cell_type": "markdown",
      "source": [
        "Initiate Spark session and import packages..."
      ],
      "metadata": {
        "id": "4kHWH1QQgcOy"
      }
    },
    {
      "cell_type": "code",
      "execution_count": null,
      "metadata": {
        "colab": {
          "base_uri": "https://localhost:8080/",
          "height": 678
        },
        "id": "jatcbTI5mNug",
        "outputId": "c5531582-1428-486b-cfaa-6b7b03e1bc8f"
      },
      "outputs": [
        {
          "name": "stdout",
          "output_type": "stream",
          "text": [
            "Get:1 http://security.ubuntu.com/ubuntu jammy-security InRelease [129 kB]\n",
            "Hit:2 https://developer.download.nvidia.com/compute/cuda/repos/ubuntu2204/x86_64  InRelease\n",
            "Hit:3 http://archive.ubuntu.com/ubuntu jammy InRelease\n",
            "Get:4 https://cloud.r-project.org/bin/linux/ubuntu jammy-cran40/ InRelease [3,632 B]\n",
            "Get:5 http://archive.ubuntu.com/ubuntu jammy-updates InRelease [128 kB]\n",
            "Get:6 https://r2u.stat.illinois.edu/ubuntu jammy InRelease [6,555 B]\n",
            "Get:7 http://archive.ubuntu.com/ubuntu jammy-backports InRelease [127 kB]\n",
            "Hit:8 https://ppa.launchpadcontent.net/deadsnakes/ppa/ubuntu jammy InRelease\n",
            "Hit:9 https://ppa.launchpadcontent.net/graphics-drivers/ppa/ubuntu jammy InRelease\n",
            "Hit:10 https://ppa.launchpadcontent.net/ubuntugis/ppa/ubuntu jammy InRelease\n",
            "Get:11 http://security.ubuntu.com/ubuntu jammy-security/main amd64 Packages [2,901 kB]\n",
            "Get:12 https://r2u.stat.illinois.edu/ubuntu jammy/main all Packages [8,927 kB]\n",
            "Get:13 http://archive.ubuntu.com/ubuntu jammy-updates/universe amd64 Packages [1,546 kB]\n",
            "Get:14 http://archive.ubuntu.com/ubuntu jammy-updates/main amd64 Packages [3,211 kB]\n",
            "Get:15 https://r2u.stat.illinois.edu/ubuntu jammy/main amd64 Packages [2,722 kB]\n",
            "Fetched 19.7 MB in 5s (3,959 kB/s)\n",
            "Reading package lists... Done\n",
            "Building dependency tree... Done\n",
            "Reading state information... Done\n",
            "35 packages can be upgraded. Run 'apt list --upgradable' to see them.\n",
            "\u001b[1;33mW: \u001b[0mSkipping acquire of configured file 'main/source/Sources' as repository 'https://r2u.stat.illinois.edu/ubuntu jammy InRelease' does not seem to provide it (sources.list entry misspelt?)\u001b[0m\n",
            "tar: spark-3.2.1-bin-hadoop3.2.tgz: Cannot open: No such file or directory\n",
            "tar: Error is not recoverable: exiting now\n",
            "Requirement already satisfied: pyspark in /usr/local/lib/python3.11/dist-packages (3.5.1)\n",
            "Requirement already satisfied: py4j==0.10.9.7 in /usr/local/lib/python3.11/dist-packages (from pyspark) (0.10.9.7)\n",
            "Requirement already satisfied: py4j in /usr/local/lib/python3.11/dist-packages (0.10.9.7)\n"
          ]
        },
        {
          "data": {
            "text/html": [
              "\n",
              "            <div>\n",
              "                <p><b>SparkSession - in-memory</b></p>\n",
              "                \n",
              "        <div>\n",
              "            <p><b>SparkContext</b></p>\n",
              "\n",
              "            <p><a href=\"http://8b106239b939:4040\">Spark UI</a></p>\n",
              "\n",
              "            <dl>\n",
              "              <dt>Version</dt>\n",
              "                <dd><code>v3.5.1</code></dd>\n",
              "              <dt>Master</dt>\n",
              "                <dd><code>local[*]</code></dd>\n",
              "              <dt>AppName</dt>\n",
              "                <dd><code>PySpark Book Ch. 4</code></dd>\n",
              "            </dl>\n",
              "        </div>\n",
              "        \n",
              "            </div>\n",
              "        "
            ],
            "text/plain": [
              "<pyspark.sql.session.SparkSession at 0x79ab04241350>"
            ]
          },
          "execution_count": 1,
          "metadata": {},
          "output_type": "execute_result"
        }
      ],
      "source": [
        "!sudo apt update\n",
        "!apt-get install openjdk-8-jdk-headless -qq > /dev/null\n",
        "#Check this site for the latest download link https://www.apache.org/dyn/closer.lua/spark/spark-3.2.1/spark-3.2.1-bin-hadoop3.2.tgz\n",
        "!wget -q https://dlcdn.apache.org/spark/spark-3.2.1/spark-3.2.1-bin-hadoop3.2.tgz\n",
        "!tar xf spark-3.2.1-bin-hadoop3.2.tgz\n",
        "!pip install -q findspark\n",
        "!pip install pyspark\n",
        "!pip install py4j\n",
        "\n",
        "import os\n",
        "import sys\n",
        "# os.environ[\"JAVA_HOME\"] = \"/usr/lib/jvm/java-8-openjdk-amd64\"\n",
        "# os.environ[\"SPARK_HOME\"] = \"/content/spark-3.2.1-bin-hadoop3.2\"\n",
        "\n",
        "\n",
        "import findspark\n",
        "findspark.init()\n",
        "findspark.find()\n",
        "\n",
        "import pyspark\n",
        "\n",
        "from pyspark import SparkConf, SparkContext\n",
        "from pyspark.sql import DataFrame, SparkSession\n",
        "from typing import List\n",
        "import pyspark.sql.types as T\n",
        "import pyspark.sql.functions as F\n",
        "\n",
        "spark= SparkSession \\\n",
        "       .builder \\\n",
        "       .appName(\"PySpark Book Ch. 4\") \\\n",
        "       .getOrCreate()\n",
        "\n",
        "spark"
      ]
    },
    {
      "cell_type": "code",
      "execution_count": null,
      "metadata": {
        "colab": {
          "base_uri": "https://localhost:8080/"
        },
        "id": "xzwqZ9Hcx7tW",
        "outputId": "7b3182ba-baab-4703-8c4d-fa75ae1a327b"
      },
      "outputs": [
        {
          "name": "stdout",
          "output_type": "stream",
          "text": [
            "Mounted at /content/drive\n"
          ]
        }
      ],
      "source": [
        "from google.colab import drive\n",
        "drive.mount('/content/drive')"
      ]
    },
    {
      "cell_type": "code",
      "execution_count": null,
      "metadata": {
        "colab": {
          "base_uri": "https://localhost:8080/"
        },
        "id": "LfsVHYBk4wV9",
        "outputId": "944a0d3d-238b-49b4-90b9-b6b19e4241c3"
      },
      "outputs": [
        {
          "name": "stdout",
          "output_type": "stream",
          "text": [
            "+----+---+---+---+---+----+---+---+---+----+----+----+----+----+----+----+----+----+----+----+----+----+----+----+----+----+----+----+----+----+----+----+----+----+----+----+----+----+----+----+----+----+----+----+----+----+----+----+----+----+----+----+----+----+----+\n",
            "| _c0|_c1|_c2|_c3|_c4| _c5|_c6|_c7|_c8| _c9|_c10|_c11|_c12|_c13|_c14|_c15|_c16|_c17|_c18|_c19|_c20|_c21|_c22|_c23|_c24|_c25|_c26|_c27|_c28|_c29|_c30|_c31|_c32|_c33|_c34|_c35|_c36|_c37|_c38|_c39|_c40|_c41|_c42|_c43|_c44|_c45|_c46|_c47|_c48|_c49|_c50|_c51|_c52|_c53|_c54|\n",
            "+----+---+---+---+---+----+---+---+---+----+----+----+----+----+----+----+----+----+----+----+----+----+----+----+----+----+----+----+----+----+----+----+----+----+----+----+----+----+----+----+----+----+----+----+----+----+----+----+----+----+----+----+----+----+----+\n",
            "|2596| 51|  3|258|  0| 510|221|232|148|6279|   1|   0|   0|   0|   0|   0|   0|   0|   0|   0|   0|   0|   0|   0|   0|   0|   0|   0|   0|   0|   0|   0|   0|   0|   0|   0|   0|   0|   0|   0|   0|   0|   1|   0|   0|   0|   0|   0|   0|   0|   0|   0|   0|   0|   5|\n",
            "|2590| 56|  2|212| -6| 390|220|235|151|6225|   1|   0|   0|   0|   0|   0|   0|   0|   0|   0|   0|   0|   0|   0|   0|   0|   0|   0|   0|   0|   0|   0|   0|   0|   0|   0|   0|   0|   0|   0|   0|   0|   1|   0|   0|   0|   0|   0|   0|   0|   0|   0|   0|   0|   5|\n",
            "|2804|139|  9|268| 65|3180|234|238|135|6121|   1|   0|   0|   0|   0|   0|   0|   0|   0|   0|   0|   0|   0|   0|   0|   1|   0|   0|   0|   0|   0|   0|   0|   0|   0|   0|   0|   0|   0|   0|   0|   0|   0|   0|   0|   0|   0|   0|   0|   0|   0|   0|   0|   0|   2|\n",
            "|2785|155| 18|242|118|3090|238|238|122|6211|   1|   0|   0|   0|   0|   0|   0|   0|   0|   0|   0|   0|   0|   0|   0|   0|   0|   0|   0|   0|   0|   0|   0|   0|   0|   0|   0|   0|   0|   0|   0|   0|   0|   1|   0|   0|   0|   0|   0|   0|   0|   0|   0|   0|   2|\n",
            "|2595| 45|  2|153| -1| 391|220|234|150|6172|   1|   0|   0|   0|   0|   0|   0|   0|   0|   0|   0|   0|   0|   0|   0|   0|   0|   0|   0|   0|   0|   0|   0|   0|   0|   0|   0|   0|   0|   0|   0|   0|   1|   0|   0|   0|   0|   0|   0|   0|   0|   0|   0|   0|   5|\n",
            "|2579|132|  6|300|-15|  67|230|237|140|6031|   1|   0|   0|   0|   0|   0|   0|   0|   0|   0|   0|   0|   0|   0|   0|   0|   0|   0|   0|   0|   0|   0|   0|   0|   0|   0|   0|   0|   0|   0|   0|   0|   1|   0|   0|   0|   0|   0|   0|   0|   0|   0|   0|   0|   2|\n",
            "|2606| 45|  7|270|  5| 633|222|225|138|6256|   1|   0|   0|   0|   0|   0|   0|   0|   0|   0|   0|   0|   0|   0|   0|   0|   0|   0|   0|   0|   0|   0|   0|   0|   0|   0|   0|   0|   0|   0|   0|   0|   1|   0|   0|   0|   0|   0|   0|   0|   0|   0|   0|   0|   5|\n",
            "|2605| 49|  4|234|  7| 573|222|230|144|6228|   1|   0|   0|   0|   0|   0|   0|   0|   0|   0|   0|   0|   0|   0|   0|   0|   0|   0|   0|   0|   0|   0|   0|   0|   0|   0|   0|   0|   0|   0|   0|   0|   1|   0|   0|   0|   0|   0|   0|   0|   0|   0|   0|   0|   5|\n",
            "|2617| 45|  9|240| 56| 666|223|221|133|6244|   1|   0|   0|   0|   0|   0|   0|   0|   0|   0|   0|   0|   0|   0|   0|   0|   0|   0|   0|   0|   0|   0|   0|   0|   0|   0|   0|   0|   0|   0|   0|   0|   1|   0|   0|   0|   0|   0|   0|   0|   0|   0|   0|   0|   5|\n",
            "|2612| 59| 10|247| 11| 636|228|219|124|6230|   1|   0|   0|   0|   0|   0|   0|   0|   0|   0|   0|   0|   0|   0|   0|   0|   0|   0|   0|   0|   0|   0|   0|   0|   0|   0|   0|   0|   0|   0|   0|   0|   1|   0|   0|   0|   0|   0|   0|   0|   0|   0|   0|   0|   5|\n",
            "|2612|201|  4|180| 51| 735|218|243|161|6222|   1|   0|   0|   0|   0|   0|   0|   0|   0|   0|   0|   0|   0|   0|   0|   0|   0|   0|   0|   0|   0|   1|   0|   0|   0|   0|   0|   0|   0|   0|   0|   0|   0|   0|   0|   0|   0|   0|   0|   0|   0|   0|   0|   0|   5|\n",
            "|2886|151| 11|371| 26|5253|234|240|136|4051|   1|   0|   0|   0|   0|   0|   0|   0|   0|   0|   0|   0|   0|   0|   0|   0|   0|   0|   0|   0|   0|   0|   0|   0|   0|   0|   0|   0|   0|   0|   0|   0|   0|   1|   0|   0|   0|   0|   0|   0|   0|   0|   0|   0|   2|\n",
            "|2742|134| 22|150| 69|3215|248|224| 92|6091|   1|   0|   0|   0|   0|   0|   0|   0|   0|   0|   0|   0|   0|   0|   0|   0|   0|   0|   0|   0|   0|   0|   0|   0|   0|   0|   0|   0|   0|   0|   0|   0|   0|   1|   0|   0|   0|   0|   0|   0|   0|   0|   0|   0|   2|\n",
            "|2609|214|  7|150| 46| 771|213|247|170|6211|   1|   0|   0|   0|   0|   0|   0|   0|   0|   0|   0|   0|   0|   0|   0|   0|   0|   0|   0|   0|   0|   1|   0|   0|   0|   0|   0|   0|   0|   0|   0|   0|   0|   0|   0|   0|   0|   0|   0|   0|   0|   0|   0|   0|   5|\n",
            "|2503|157|  4| 67|  4| 674|224|240|151|5600|   1|   0|   0|   0|   0|   0|   0|   0|   0|   0|   0|   0|   0|   0|   0|   0|   0|   0|   0|   0|   0|   1|   0|   0|   0|   0|   0|   0|   0|   0|   0|   0|   0|   0|   0|   0|   0|   0|   0|   0|   0|   0|   0|   0|   5|\n",
            "|2495| 51|  7| 42|  2| 752|224|225|137|5576|   1|   0|   0|   0|   0|   0|   0|   0|   0|   0|   0|   0|   0|   0|   0|   0|   0|   0|   0|   1|   0|   0|   0|   0|   0|   0|   0|   0|   0|   0|   0|   0|   0|   0|   0|   0|   0|   0|   0|   0|   0|   0|   0|   0|   5|\n",
            "|2610|259|  1|120| -1| 607|216|239|161|6096|   1|   0|   0|   0|   0|   0|   0|   0|   0|   0|   0|   0|   0|   0|   0|   0|   0|   0|   0|   0|   0|   0|   0|   0|   0|   0|   0|   0|   0|   0|   0|   0|   1|   0|   0|   0|   0|   0|   0|   0|   0|   0|   0|   0|   5|\n",
            "|2517| 72|  7| 85|  6| 595|228|227|133|5607|   1|   0|   0|   0|   0|   0|   0|   0|   0|   0|   0|   0|   0|   0|   0|   0|   0|   0|   0|   0|   0|   1|   0|   0|   0|   0|   0|   0|   0|   0|   0|   0|   0|   0|   0|   0|   0|   0|   0|   0|   0|   0|   0|   0|   5|\n",
            "|2504|  0|  4| 95|  5| 691|214|232|156|5572|   1|   0|   0|   0|   0|   0|   0|   0|   0|   0|   0|   0|   0|   0|   0|   0|   0|   0|   0|   0|   0|   1|   0|   0|   0|   0|   0|   0|   0|   0|   0|   0|   0|   0|   0|   0|   0|   0|   0|   0|   0|   0|   0|   0|   5|\n",
            "|2503| 38|  5| 85| 10| 741|220|228|144|5555|   1|   0|   0|   0|   0|   0|   0|   0|   0|   0|   0|   0|   0|   0|   0|   0|   0|   0|   0|   0|   0|   1|   0|   0|   0|   0|   0|   0|   0|   0|   0|   0|   0|   0|   0|   0|   0|   0|   0|   0|   0|   0|   0|   0|   5|\n",
            "+----+---+---+---+---+----+---+---+---+----+----+----+----+----+----+----+----+----+----+----+----+----+----+----+----+----+----+----+----+----+----+----+----+----+----+----+----+----+----+----+----+----+----+----+----+----+----+----+----+----+----+----+----+----+----+\n",
            "only showing top 20 rows\n",
            "\n"
          ]
        }
      ],
      "source": [
        "file_path = '/content/drive/MyDrive/Colab_Notebooks/PySpark Data Analysis/Advanced Analytics With PySpark - OReilly/covertype/'\n",
        "\n",
        "raw_data = spark.read.csv(file_path+'covtype.data',inferSchema=True)\n",
        "raw_data.show()"
      ]
    },
    {
      "cell_type": "code",
      "execution_count": null,
      "metadata": {
        "colab": {
          "base_uri": "https://localhost:8080/"
        },
        "id": "k9P90ywd5Ya2",
        "outputId": "18118577-76e1-4159-b7c2-c446b18e9b38"
      },
      "outputs": [
        {
          "name": "stdout",
          "output_type": "stream",
          "text": [
            "root\n",
            " |-- _c0: integer (nullable = true)\n",
            " |-- _c1: integer (nullable = true)\n",
            " |-- _c2: integer (nullable = true)\n",
            " |-- _c3: integer (nullable = true)\n",
            " |-- _c4: integer (nullable = true)\n",
            " |-- _c5: integer (nullable = true)\n",
            " |-- _c6: integer (nullable = true)\n",
            " |-- _c7: integer (nullable = true)\n",
            " |-- _c8: integer (nullable = true)\n",
            " |-- _c9: integer (nullable = true)\n",
            " |-- _c10: integer (nullable = true)\n",
            " |-- _c11: integer (nullable = true)\n",
            " |-- _c12: integer (nullable = true)\n",
            " |-- _c13: integer (nullable = true)\n",
            " |-- _c14: integer (nullable = true)\n",
            " |-- _c15: integer (nullable = true)\n",
            " |-- _c16: integer (nullable = true)\n",
            " |-- _c17: integer (nullable = true)\n",
            " |-- _c18: integer (nullable = true)\n",
            " |-- _c19: integer (nullable = true)\n",
            " |-- _c20: integer (nullable = true)\n",
            " |-- _c21: integer (nullable = true)\n",
            " |-- _c22: integer (nullable = true)\n",
            " |-- _c23: integer (nullable = true)\n",
            " |-- _c24: integer (nullable = true)\n",
            " |-- _c25: integer (nullable = true)\n",
            " |-- _c26: integer (nullable = true)\n",
            " |-- _c27: integer (nullable = true)\n",
            " |-- _c28: integer (nullable = true)\n",
            " |-- _c29: integer (nullable = true)\n",
            " |-- _c30: integer (nullable = true)\n",
            " |-- _c31: integer (nullable = true)\n",
            " |-- _c32: integer (nullable = true)\n",
            " |-- _c33: integer (nullable = true)\n",
            " |-- _c34: integer (nullable = true)\n",
            " |-- _c35: integer (nullable = true)\n",
            " |-- _c36: integer (nullable = true)\n",
            " |-- _c37: integer (nullable = true)\n",
            " |-- _c38: integer (nullable = true)\n",
            " |-- _c39: integer (nullable = true)\n",
            " |-- _c40: integer (nullable = true)\n",
            " |-- _c41: integer (nullable = true)\n",
            " |-- _c42: integer (nullable = true)\n",
            " |-- _c43: integer (nullable = true)\n",
            " |-- _c44: integer (nullable = true)\n",
            " |-- _c45: integer (nullable = true)\n",
            " |-- _c46: integer (nullable = true)\n",
            " |-- _c47: integer (nullable = true)\n",
            " |-- _c48: integer (nullable = true)\n",
            " |-- _c49: integer (nullable = true)\n",
            " |-- _c50: integer (nullable = true)\n",
            " |-- _c51: integer (nullable = true)\n",
            " |-- _c52: integer (nullable = true)\n",
            " |-- _c53: integer (nullable = true)\n",
            " |-- _c54: integer (nullable = true)\n",
            "\n"
          ]
        }
      ],
      "source": [
        "raw_data.printSchema()"
      ]
    },
    {
      "cell_type": "markdown",
      "metadata": {
        "id": "wvh1uRixgo58"
      },
      "source": [
        "Establish column names..."
      ]
    },
    {
      "cell_type": "code",
      "execution_count": null,
      "metadata": {
        "colab": {
          "base_uri": "https://localhost:8080/"
        },
        "id": "OJ38B72DHLLD",
        "outputId": "c3dffd34-5156-4325-e2a0-5cd6461ff38d"
      },
      "outputs": [
        {
          "data": {
            "text/plain": [
              "['Elevation',\n",
              " 'Aspect',\n",
              " 'Slope',\n",
              " 'Horizontal_Distance_To_Hydrology',\n",
              " 'Vertical_Distance_To_Hydrology',\n",
              " 'Horizontal_Distance_To_Roadways',\n",
              " 'Hillshade_9am',\n",
              " 'Hillshade_Noon',\n",
              " 'Hillshade_3pm',\n",
              " 'Horizontal_Distance_To_Fire_Points',\n",
              " 'Wilderness_Area_0',\n",
              " 'Wilderness_Area_1',\n",
              " 'Wilderness_Area_2',\n",
              " 'Wilderness_Area_3',\n",
              " 'Soil_Type_0',\n",
              " 'Soil_Type_1',\n",
              " 'Soil_Type_2',\n",
              " 'Soil_Type_3',\n",
              " 'Soil_Type_4',\n",
              " 'Soil_Type_5',\n",
              " 'Soil_Type_6',\n",
              " 'Soil_Type_7',\n",
              " 'Soil_Type_8',\n",
              " 'Soil_Type_9',\n",
              " 'Soil_Type_10',\n",
              " 'Soil_Type_11',\n",
              " 'Soil_Type_12',\n",
              " 'Soil_Type_13',\n",
              " 'Soil_Type_14',\n",
              " 'Soil_Type_15',\n",
              " 'Soil_Type_16',\n",
              " 'Soil_Type_17',\n",
              " 'Soil_Type_18',\n",
              " 'Soil_Type_19',\n",
              " 'Soil_Type_20',\n",
              " 'Soil_Type_21',\n",
              " 'Soil_Type_22',\n",
              " 'Soil_Type_23',\n",
              " 'Soil_Type_24',\n",
              " 'Soil_Type_25',\n",
              " 'Soil_Type_26',\n",
              " 'Soil_Type_27',\n",
              " 'Soil_Type_28',\n",
              " 'Soil_Type_29',\n",
              " 'Soil_Type_30',\n",
              " 'Soil_Type_31',\n",
              " 'Soil_Type_32',\n",
              " 'Soil_Type_33',\n",
              " 'Soil_Type_34',\n",
              " 'Soil_Type_35',\n",
              " 'Soil_Type_36',\n",
              " 'Soil_Type_37',\n",
              " 'Soil_Type_38',\n",
              " 'Soil_Type_39',\n",
              " 'Cover_Type']"
            ]
          },
          "execution_count": 6,
          "metadata": {},
          "output_type": "execute_result"
        }
      ],
      "source": [
        "colnames = [\"Elevation\", \"Aspect\", \"Slope\", \\\n",
        "            \"Horizontal_Distance_To_Hydrology\", \\\n",
        "            \"Vertical_Distance_To_Hydrology\", \"Horizontal_Distance_To_Roadways\", \\\n",
        "            \"Hillshade_9am\", \"Hillshade_Noon\", \"Hillshade_3pm\", \\\n",
        "            \"Horizontal_Distance_To_Fire_Points\"] + \\\n",
        "            [f\"Wilderness_Area_{i}\" for i in range(4)] + \\\n",
        "            [f\"Soil_Type_{i}\" for i in range(40)] + \\\n",
        "            [\"Cover_Type\"]\n",
        "\n",
        "colnames"
      ]
    },
    {
      "cell_type": "code",
      "execution_count": null,
      "metadata": {
        "colab": {
          "base_uri": "https://localhost:8080/"
        },
        "id": "LUaa9kVgKu52",
        "outputId": "7097cf65-7104-4cb6-8588-14a8f9412e78"
      },
      "outputs": [
        {
          "name": "stdout",
          "output_type": "stream",
          "text": [
            "root\n",
            " |-- Elevation: integer (nullable = true)\n",
            " |-- Aspect: integer (nullable = true)\n",
            " |-- Slope: integer (nullable = true)\n",
            " |-- Horizontal_Distance_To_Hydrology: integer (nullable = true)\n",
            " |-- Vertical_Distance_To_Hydrology: integer (nullable = true)\n",
            " |-- Horizontal_Distance_To_Roadways: integer (nullable = true)\n",
            " |-- Hillshade_9am: integer (nullable = true)\n",
            " |-- Hillshade_Noon: integer (nullable = true)\n",
            " |-- Hillshade_3pm: integer (nullable = true)\n",
            " |-- Horizontal_Distance_To_Fire_Points: integer (nullable = true)\n",
            " |-- Wilderness_Area_0: integer (nullable = true)\n",
            " |-- Wilderness_Area_1: integer (nullable = true)\n",
            " |-- Wilderness_Area_2: integer (nullable = true)\n",
            " |-- Wilderness_Area_3: integer (nullable = true)\n",
            " |-- Soil_Type_0: integer (nullable = true)\n",
            " |-- Soil_Type_1: integer (nullable = true)\n",
            " |-- Soil_Type_2: integer (nullable = true)\n",
            " |-- Soil_Type_3: integer (nullable = true)\n",
            " |-- Soil_Type_4: integer (nullable = true)\n",
            " |-- Soil_Type_5: integer (nullable = true)\n",
            " |-- Soil_Type_6: integer (nullable = true)\n",
            " |-- Soil_Type_7: integer (nullable = true)\n",
            " |-- Soil_Type_8: integer (nullable = true)\n",
            " |-- Soil_Type_9: integer (nullable = true)\n",
            " |-- Soil_Type_10: integer (nullable = true)\n",
            " |-- Soil_Type_11: integer (nullable = true)\n",
            " |-- Soil_Type_12: integer (nullable = true)\n",
            " |-- Soil_Type_13: integer (nullable = true)\n",
            " |-- Soil_Type_14: integer (nullable = true)\n",
            " |-- Soil_Type_15: integer (nullable = true)\n",
            " |-- Soil_Type_16: integer (nullable = true)\n",
            " |-- Soil_Type_17: integer (nullable = true)\n",
            " |-- Soil_Type_18: integer (nullable = true)\n",
            " |-- Soil_Type_19: integer (nullable = true)\n",
            " |-- Soil_Type_20: integer (nullable = true)\n",
            " |-- Soil_Type_21: integer (nullable = true)\n",
            " |-- Soil_Type_22: integer (nullable = true)\n",
            " |-- Soil_Type_23: integer (nullable = true)\n",
            " |-- Soil_Type_24: integer (nullable = true)\n",
            " |-- Soil_Type_25: integer (nullable = true)\n",
            " |-- Soil_Type_26: integer (nullable = true)\n",
            " |-- Soil_Type_27: integer (nullable = true)\n",
            " |-- Soil_Type_28: integer (nullable = true)\n",
            " |-- Soil_Type_29: integer (nullable = true)\n",
            " |-- Soil_Type_30: integer (nullable = true)\n",
            " |-- Soil_Type_31: integer (nullable = true)\n",
            " |-- Soil_Type_32: integer (nullable = true)\n",
            " |-- Soil_Type_33: integer (nullable = true)\n",
            " |-- Soil_Type_34: integer (nullable = true)\n",
            " |-- Soil_Type_35: integer (nullable = true)\n",
            " |-- Soil_Type_36: integer (nullable = true)\n",
            " |-- Soil_Type_37: integer (nullable = true)\n",
            " |-- Soil_Type_38: integer (nullable = true)\n",
            " |-- Soil_Type_39: integer (nullable = true)\n",
            " |-- Cover_Type: double (nullable = true)\n",
            "\n"
          ]
        }
      ],
      "source": [
        "data = raw_data.toDF(*colnames).withColumn(\"Cover_Type\",F.col(\"Cover_Type\").cast(T.DoubleType()))\n",
        "data.printSchema()"
      ]
    },
    {
      "cell_type": "markdown",
      "metadata": {
        "id": "YCGY6HLHgihl"
      },
      "source": [
        "Split data into train and test datasets..."
      ]
    },
    {
      "cell_type": "code",
      "execution_count": null,
      "metadata": {
        "colab": {
          "base_uri": "https://localhost:8080/"
        },
        "id": "RrLHo2mDh_lL",
        "outputId": "484a5974-c93e-4e96-f834-10a59726f6f0"
      },
      "outputs": [
        {
          "data": {
            "text/plain": [
              "DataFrame[Elevation: int, Aspect: int, Slope: int, Horizontal_Distance_To_Hydrology: int, Vertical_Distance_To_Hydrology: int, Horizontal_Distance_To_Roadways: int, Hillshade_9am: int, Hillshade_Noon: int, Hillshade_3pm: int, Horizontal_Distance_To_Fire_Points: int, Wilderness_Area_0: int, Wilderness_Area_1: int, Wilderness_Area_2: int, Wilderness_Area_3: int, Soil_Type_0: int, Soil_Type_1: int, Soil_Type_2: int, Soil_Type_3: int, Soil_Type_4: int, Soil_Type_5: int, Soil_Type_6: int, Soil_Type_7: int, Soil_Type_8: int, Soil_Type_9: int, Soil_Type_10: int, Soil_Type_11: int, Soil_Type_12: int, Soil_Type_13: int, Soil_Type_14: int, Soil_Type_15: int, Soil_Type_16: int, Soil_Type_17: int, Soil_Type_18: int, Soil_Type_19: int, Soil_Type_20: int, Soil_Type_21: int, Soil_Type_22: int, Soil_Type_23: int, Soil_Type_24: int, Soil_Type_25: int, Soil_Type_26: int, Soil_Type_27: int, Soil_Type_28: int, Soil_Type_29: int, Soil_Type_30: int, Soil_Type_31: int, Soil_Type_32: int, Soil_Type_33: int, Soil_Type_34: int, Soil_Type_35: int, Soil_Type_36: int, Soil_Type_37: int, Soil_Type_38: int, Soil_Type_39: int, Cover_Type: double]"
            ]
          },
          "execution_count": 8,
          "metadata": {},
          "output_type": "execute_result"
        }
      ],
      "source": [
        "(train_data, test_data) = data.randomSplit([0.9, 0.1])\n",
        "train_data.cache()\n",
        "test_data.cache()"
      ]
    },
    {
      "cell_type": "markdown",
      "metadata": {
        "id": "wD1OyKvfmFrx"
      },
      "source": [
        "Create row vectors to comply with the MLlib requirement that all of the inputs be collected into one column, whose value is a vector. The output doesn’t look exactly like a sequence of numbers, but that’s because this shows a raw representation of the vector, represented as a SparseVector instance to save storage."
      ]
    },
    {
      "cell_type": "code",
      "execution_count": null,
      "metadata": {
        "colab": {
          "base_uri": "https://localhost:8080/"
        },
        "id": "iAYuBgOWl_w2",
        "outputId": "a5ecce41-4c81-400f-d53f-04d11b16f58c"
      },
      "outputs": [
        {
          "name": "stdout",
          "output_type": "stream",
          "text": [
            "+----------------------------------------------------------------------------------------------------+\n",
            "|featureVector                                                                                       |\n",
            "+----------------------------------------------------------------------------------------------------+\n",
            "|(54,[0,1,2,3,4,5,6,7,8,9,13,15],[1859.0,18.0,12.0,67.0,11.0,90.0,211.0,215.0,139.0,792.0,1.0,1.0])  |\n",
            "|(54,[0,1,2,3,4,5,6,7,8,9,13,15],[1860.0,18.0,13.0,95.0,15.0,90.0,210.0,213.0,138.0,780.0,1.0,1.0])  |\n",
            "|(54,[0,1,2,3,4,5,6,7,8,9,13,15],[1861.0,35.0,14.0,60.0,11.0,85.0,218.0,209.0,124.0,832.0,1.0,1.0])  |\n",
            "|(54,[0,1,2,3,4,5,6,7,8,9,13,15],[1863.0,37.0,17.0,120.0,18.0,90.0,217.0,202.0,115.0,769.0,1.0,1.0]) |\n",
            "|(54,[0,1,2,3,4,5,6,7,8,9,13,15],[1866.0,23.0,14.0,85.0,16.0,108.0,212.0,210.0,133.0,819.0,1.0,1.0]) |\n",
            "|(54,[0,1,2,3,4,5,6,7,8,9,13,15],[1867.0,20.0,15.0,108.0,19.0,120.0,208.0,206.0,132.0,808.0,1.0,1.0])|\n",
            "|(54,[0,1,2,3,4,5,6,7,8,9,13,15],[1868.0,27.0,16.0,67.0,17.0,95.0,212.0,204.0,125.0,859.0,1.0,1.0])  |\n",
            "|(54,[0,1,2,3,4,5,6,7,8,9,13,18],[1871.0,22.0,22.0,60.0,12.0,85.0,200.0,187.0,115.0,792.0,1.0,1.0])  |\n",
            "|(54,[0,1,2,3,4,5,6,7,8,9,13,15],[1871.0,36.0,19.0,134.0,26.0,120.0,215.0,194.0,107.0,797.0,1.0,1.0])|\n",
            "|(54,[0,1,2,3,4,5,6,7,8,9,13,18],[1872.0,12.0,27.0,85.0,25.0,60.0,182.0,174.0,118.0,577.0,1.0,1.0])  |\n",
            "|(54,[0,1,2,3,4,5,6,7,8,9,13,15],[1872.0,27.0,21.0,108.0,30.0,67.0,206.0,190.0,112.0,713.0,1.0,1.0]) |\n",
            "|(54,[0,1,2,3,4,5,6,7,8,9,13,14],[1872.0,35.0,21.0,120.0,18.0,85.0,213.0,189.0,104.0,797.0,1.0,1.0]) |\n",
            "|(54,[0,1,2,3,4,5,6,7,8,9,13,15],[1873.0,30.0,19.0,67.0,21.0,85.0,211.0,195.0,114.0,899.0,1.0,1.0])  |\n",
            "|(54,[0,1,2,5,6,7,8,9,13,18],[1874.0,18.0,14.0,90.0,208.0,209.0,135.0,793.0,1.0,1.0])                |\n",
            "|(54,[0,1,2,3,4,5,6,7,8,9,13,15],[1876.0,25.0,17.0,124.0,26.0,150.0,209.0,200.0,123.0,836.0,1.0,1.0])|\n",
            "|(54,[0,1,2,3,4,5,6,7,8,9,13,18],[1877.0,27.0,24.0,90.0,18.0,95.0,201.0,179.0,104.0,780.0,1.0,1.0])  |\n",
            "|(54,[0,1,2,3,4,5,6,7,8,9,13,15],[1877.0,28.0,22.0,127.0,35.0,85.0,205.0,185.0,107.0,706.0,1.0,1.0]) |\n",
            "|(54,[0,1,2,5,6,7,8,9,13,18],[1879.0,18.0,14.0,120.0,208.0,210.0,137.0,767.0,1.0,1.0])               |\n",
            "|(54,[0,1,2,3,4,5,6,7,8,9,13,15],[1879.0,23.0,18.0,108.0,28.0,134.0,207.0,200.0,124.0,875.0,1.0,1.0])|\n",
            "|(54,[0,1,2,3,4,5,6,7,8,9,13,18],[1879.0,28.0,19.0,30.0,12.0,95.0,209.0,196.0,117.0,778.0,1.0,1.0])  |\n",
            "+----------------------------------------------------------------------------------------------------+\n",
            "only showing top 20 rows\n",
            "\n"
          ]
        }
      ],
      "source": [
        "from pyspark.ml.feature import VectorAssembler\n",
        "\n",
        "input_cols = colnames[:-1]\n",
        "vector_assembler = VectorAssembler(inputCols=input_cols,\n",
        "                                    outputCol=\"featureVector\")\n",
        "\n",
        "assembled_train_data = vector_assembler.transform(train_data)\n",
        "\n",
        "assembled_train_data.select(\"featureVector\").show(truncate = False)"
      ]
    },
    {
      "cell_type": "code",
      "execution_count": null,
      "metadata": {
        "colab": {
          "base_uri": "https://localhost:8080/"
        },
        "id": "5cZdndhy3jA7",
        "outputId": "3fe931d2-21c2-46f8-dd94-b656fe353741"
      },
      "outputs": [
        {
          "name": "stdout",
          "output_type": "stream",
          "text": [
            "+---------+------+-----+--------------------------------+------------------------------+-------------------------------+-------------+--------------+-------------+----------------------------------+-----------------+-----------------+-----------------+-----------------+-----------+-----------+-----------+-----------+-----------+-----------+-----------+-----------+-----------+-----------+------------+------------+------------+------------+------------+------------+------------+------------+------------+------------+------------+------------+------------+------------+------------+------------+------------+------------+------------+------------+------------+------------+------------+------------+------------+------------+------------+------------+------------+------------+----------+--------------------+\n",
            "|Elevation|Aspect|Slope|Horizontal_Distance_To_Hydrology|Vertical_Distance_To_Hydrology|Horizontal_Distance_To_Roadways|Hillshade_9am|Hillshade_Noon|Hillshade_3pm|Horizontal_Distance_To_Fire_Points|Wilderness_Area_0|Wilderness_Area_1|Wilderness_Area_2|Wilderness_Area_3|Soil_Type_0|Soil_Type_1|Soil_Type_2|Soil_Type_3|Soil_Type_4|Soil_Type_5|Soil_Type_6|Soil_Type_7|Soil_Type_8|Soil_Type_9|Soil_Type_10|Soil_Type_11|Soil_Type_12|Soil_Type_13|Soil_Type_14|Soil_Type_15|Soil_Type_16|Soil_Type_17|Soil_Type_18|Soil_Type_19|Soil_Type_20|Soil_Type_21|Soil_Type_22|Soil_Type_23|Soil_Type_24|Soil_Type_25|Soil_Type_26|Soil_Type_27|Soil_Type_28|Soil_Type_29|Soil_Type_30|Soil_Type_31|Soil_Type_32|Soil_Type_33|Soil_Type_34|Soil_Type_35|Soil_Type_36|Soil_Type_37|Soil_Type_38|Soil_Type_39|Cover_Type|       featureVector|\n",
            "+---------+------+-----+--------------------------------+------------------------------+-------------------------------+-------------+--------------+-------------+----------------------------------+-----------------+-----------------+-----------------+-----------------+-----------+-----------+-----------+-----------+-----------+-----------+-----------+-----------+-----------+-----------+------------+------------+------------+------------+------------+------------+------------+------------+------------+------------+------------+------------+------------+------------+------------+------------+------------+------------+------------+------------+------------+------------+------------+------------+------------+------------+------------+------------+------------+------------+----------+--------------------+\n",
            "|     1859|    18|   12|                              67|                            11|                             90|          211|           215|          139|                               792|                0|                0|                0|                1|          0|          1|          0|          0|          0|          0|          0|          0|          0|          0|           0|           0|           0|           0|           0|           0|           0|           0|           0|           0|           0|           0|           0|           0|           0|           0|           0|           0|           0|           0|           0|           0|           0|           0|           0|           0|           0|           0|           0|           0|       3.0|(54,[0,1,2,3,4,5,...|\n",
            "|     1860|    18|   13|                              95|                            15|                             90|          210|           213|          138|                               780|                0|                0|                0|                1|          0|          1|          0|          0|          0|          0|          0|          0|          0|          0|           0|           0|           0|           0|           0|           0|           0|           0|           0|           0|           0|           0|           0|           0|           0|           0|           0|           0|           0|           0|           0|           0|           0|           0|           0|           0|           0|           0|           0|           0|       3.0|(54,[0,1,2,3,4,5,...|\n",
            "|     1861|    35|   14|                              60|                            11|                             85|          218|           209|          124|                               832|                0|                0|                0|                1|          0|          1|          0|          0|          0|          0|          0|          0|          0|          0|           0|           0|           0|           0|           0|           0|           0|           0|           0|           0|           0|           0|           0|           0|           0|           0|           0|           0|           0|           0|           0|           0|           0|           0|           0|           0|           0|           0|           0|           0|       3.0|(54,[0,1,2,3,4,5,...|\n",
            "|     1863|    37|   17|                             120|                            18|                             90|          217|           202|          115|                               769|                0|                0|                0|                1|          0|          1|          0|          0|          0|          0|          0|          0|          0|          0|           0|           0|           0|           0|           0|           0|           0|           0|           0|           0|           0|           0|           0|           0|           0|           0|           0|           0|           0|           0|           0|           0|           0|           0|           0|           0|           0|           0|           0|           0|       6.0|(54,[0,1,2,3,4,5,...|\n",
            "|     1866|    23|   14|                              85|                            16|                            108|          212|           210|          133|                               819|                0|                0|                0|                1|          0|          1|          0|          0|          0|          0|          0|          0|          0|          0|           0|           0|           0|           0|           0|           0|           0|           0|           0|           0|           0|           0|           0|           0|           0|           0|           0|           0|           0|           0|           0|           0|           0|           0|           0|           0|           0|           0|           0|           0|       3.0|(54,[0,1,2,3,4,5,...|\n",
            "|     1867|    20|   15|                             108|                            19|                            120|          208|           206|          132|                               808|                0|                0|                0|                1|          0|          1|          0|          0|          0|          0|          0|          0|          0|          0|           0|           0|           0|           0|           0|           0|           0|           0|           0|           0|           0|           0|           0|           0|           0|           0|           0|           0|           0|           0|           0|           0|           0|           0|           0|           0|           0|           0|           0|           0|       3.0|(54,[0,1,2,3,4,5,...|\n",
            "|     1868|    27|   16|                              67|                            17|                             95|          212|           204|          125|                               859|                0|                0|                0|                1|          0|          1|          0|          0|          0|          0|          0|          0|          0|          0|           0|           0|           0|           0|           0|           0|           0|           0|           0|           0|           0|           0|           0|           0|           0|           0|           0|           0|           0|           0|           0|           0|           0|           0|           0|           0|           0|           0|           0|           0|       3.0|(54,[0,1,2,3,4,5,...|\n",
            "|     1871|    22|   22|                              60|                            12|                             85|          200|           187|          115|                               792|                0|                0|                0|                1|          0|          0|          0|          0|          1|          0|          0|          0|          0|          0|           0|           0|           0|           0|           0|           0|           0|           0|           0|           0|           0|           0|           0|           0|           0|           0|           0|           0|           0|           0|           0|           0|           0|           0|           0|           0|           0|           0|           0|           0|       6.0|(54,[0,1,2,3,4,5,...|\n",
            "|     1871|    36|   19|                             134|                            26|                            120|          215|           194|          107|                               797|                0|                0|                0|                1|          0|          1|          0|          0|          0|          0|          0|          0|          0|          0|           0|           0|           0|           0|           0|           0|           0|           0|           0|           0|           0|           0|           0|           0|           0|           0|           0|           0|           0|           0|           0|           0|           0|           0|           0|           0|           0|           0|           0|           0|       6.0|(54,[0,1,2,3,4,5,...|\n",
            "|     1872|    12|   27|                              85|                            25|                             60|          182|           174|          118|                               577|                0|                0|                0|                1|          0|          0|          0|          0|          1|          0|          0|          0|          0|          0|           0|           0|           0|           0|           0|           0|           0|           0|           0|           0|           0|           0|           0|           0|           0|           0|           0|           0|           0|           0|           0|           0|           0|           0|           0|           0|           0|           0|           0|           0|       6.0|(54,[0,1,2,3,4,5,...|\n",
            "|     1872|    27|   21|                             108|                            30|                             67|          206|           190|          112|                               713|                0|                0|                0|                1|          0|          1|          0|          0|          0|          0|          0|          0|          0|          0|           0|           0|           0|           0|           0|           0|           0|           0|           0|           0|           0|           0|           0|           0|           0|           0|           0|           0|           0|           0|           0|           0|           0|           0|           0|           0|           0|           0|           0|           0|       6.0|(54,[0,1,2,3,4,5,...|\n",
            "|     1872|    35|   21|                             120|                            18|                             85|          213|           189|          104|                               797|                0|                0|                0|                1|          1|          0|          0|          0|          0|          0|          0|          0|          0|          0|           0|           0|           0|           0|           0|           0|           0|           0|           0|           0|           0|           0|           0|           0|           0|           0|           0|           0|           0|           0|           0|           0|           0|           0|           0|           0|           0|           0|           0|           0|       6.0|(54,[0,1,2,3,4,5,...|\n",
            "|     1873|    30|   19|                              67|                            21|                             85|          211|           195|          114|                               899|                0|                0|                0|                1|          0|          1|          0|          0|          0|          0|          0|          0|          0|          0|           0|           0|           0|           0|           0|           0|           0|           0|           0|           0|           0|           0|           0|           0|           0|           0|           0|           0|           0|           0|           0|           0|           0|           0|           0|           0|           0|           0|           0|           0|       3.0|(54,[0,1,2,3,4,5,...|\n",
            "|     1874|    18|   14|                               0|                             0|                             90|          208|           209|          135|                               793|                0|                0|                0|                1|          0|          0|          0|          0|          1|          0|          0|          0|          0|          0|           0|           0|           0|           0|           0|           0|           0|           0|           0|           0|           0|           0|           0|           0|           0|           0|           0|           0|           0|           0|           0|           0|           0|           0|           0|           0|           0|           0|           0|           0|       6.0|(54,[0,1,2,5,6,7,...|\n",
            "|     1876|    25|   17|                             124|                            26|                            150|          209|           200|          123|                               836|                0|                0|                0|                1|          0|          1|          0|          0|          0|          0|          0|          0|          0|          0|           0|           0|           0|           0|           0|           0|           0|           0|           0|           0|           0|           0|           0|           0|           0|           0|           0|           0|           0|           0|           0|           0|           0|           0|           0|           0|           0|           0|           0|           0|       3.0|(54,[0,1,2,3,4,5,...|\n",
            "|     1877|    27|   24|                              90|                            18|                             95|          201|           179|          104|                               780|                0|                0|                0|                1|          0|          0|          0|          0|          1|          0|          0|          0|          0|          0|           0|           0|           0|           0|           0|           0|           0|           0|           0|           0|           0|           0|           0|           0|           0|           0|           0|           0|           0|           0|           0|           0|           0|           0|           0|           0|           0|           0|           0|           0|       6.0|(54,[0,1,2,3,4,5,...|\n",
            "|     1877|    28|   22|                             127|                            35|                             85|          205|           185|          107|                               706|                0|                0|                0|                1|          0|          1|          0|          0|          0|          0|          0|          0|          0|          0|           0|           0|           0|           0|           0|           0|           0|           0|           0|           0|           0|           0|           0|           0|           0|           0|           0|           0|           0|           0|           0|           0|           0|           0|           0|           0|           0|           0|           0|           0|       6.0|(54,[0,1,2,3,4,5,...|\n",
            "|     1879|    18|   14|                               0|                             0|                            120|          208|           210|          137|                               767|                0|                0|                0|                1|          0|          0|          0|          0|          1|          0|          0|          0|          0|          0|           0|           0|           0|           0|           0|           0|           0|           0|           0|           0|           0|           0|           0|           0|           0|           0|           0|           0|           0|           0|           0|           0|           0|           0|           0|           0|           0|           0|           0|           0|       6.0|(54,[0,1,2,5,6,7,...|\n",
            "|     1879|    23|   18|                             108|                            28|                            134|          207|           200|          124|                               875|                0|                0|                0|                1|          0|          1|          0|          0|          0|          0|          0|          0|          0|          0|           0|           0|           0|           0|           0|           0|           0|           0|           0|           0|           0|           0|           0|           0|           0|           0|           0|           0|           0|           0|           0|           0|           0|           0|           0|           0|           0|           0|           0|           0|       3.0|(54,[0,1,2,3,4,5,...|\n",
            "|     1879|    28|   19|                              30|                            12|                             95|          209|           196|          117|                               778|                0|                0|                0|                1|          0|          0|          0|          0|          1|          0|          0|          0|          0|          0|           0|           0|           0|           0|           0|           0|           0|           0|           0|           0|           0|           0|           0|           0|           0|           0|           0|           0|           0|           0|           0|           0|           0|           0|           0|           0|           0|           0|           0|           0|       6.0|(54,[0,1,2,3,4,5,...|\n",
            "+---------+------+-----+--------------------------------+------------------------------+-------------------------------+-------------+--------------+-------------+----------------------------------+-----------------+-----------------+-----------------+-----------------+-----------+-----------+-----------+-----------+-----------+-----------+-----------+-----------+-----------+-----------+------------+------------+------------+------------+------------+------------+------------+------------+------------+------------+------------+------------+------------+------------+------------+------------+------------+------------+------------+------------+------------+------------+------------+------------+------------+------------+------------+------------+------------+------------+----------+--------------------+\n",
            "only showing top 20 rows\n",
            "\n"
          ]
        }
      ],
      "source": [
        "assembled_train_data.show()"
      ]
    },
    {
      "cell_type": "code",
      "execution_count": null,
      "metadata": {
        "colab": {
          "base_uri": "https://localhost:8080/"
        },
        "id": "oH2FhnGf5N2T",
        "outputId": "0078eb43-7af3-4b34-971b-a76bf55f4408"
      },
      "outputs": [
        {
          "name": "stdout",
          "output_type": "stream",
          "text": [
            "DecisionTreeClassificationModel: uid=DecisionTreeClassifier_5bbb6db03709, depth=5, numNodes=47, numClasses=8, numFeatures=54\n",
            "  If (feature 0 <= 3044.5)\n",
            "   If (feature 0 <= 2559.5)\n",
            "    If (feature 10 <= 0.5)\n",
            "     If (feature 0 <= 2446.5)\n",
            "      If (feature 3 <= 15.0)\n",
            "       Predict: 4.0\n",
            "      Else (feature 3 > 15.0)\n",
            "       Predict: 3.0\n",
            "     Else (feature 0 > 2446.5)\n",
            "      If (feature 17 <= 0.5)\n",
            "       Predict: 2.0\n",
            "      Else (feature 17 > 0.5)\n",
            "       Predict: 3.0\n",
            "    Else (feature 10 > 0.5)\n",
            "     If (feature 9 <= 5416.5)\n",
            "      Predict: 2.0\n",
            "     Else (feature 9 > 5416.5)\n",
            "      If (feature 5 <= 542.0)\n",
            "       Predict: 2.0\n",
            "      Else (feature 5 > 542.0)\n",
            "       Predict: 5.0\n",
            "   Else (feature 0 > 2559.5)\n",
            "    If (feature 0 <= 2954.5)\n",
            "     If (feature 15 <= 0.5)\n",
            "      If (feature 17 <= 0.5)\n",
            "       Predict: 2.0\n",
            "      Else (feature 17 > 0.5)\n",
            "       Predict: 3.0\n",
            "     Else (feature 15 > 0.5)\n",
            "      Predict: 3.0\n",
            "    Else (feature 0 > 2954.5)\n",
            "     If (feature 3 <= 211.0)\n",
            "      If (feature 36 <= 0.5)\n",
            "       Predict: 2.0\n",
            "      Else (feature 36 > 0.5)\n",
            "       Predict: 1.0\n",
            "     Else (feature 3 > 211.0)\n",
            "      Predict: 2.0\n",
            "  Else (feature 0 > 3044.5)\n",
            "   If (feature 0 <= 3307.5)\n",
            "    If (feature 7 <= 238.5)\n",
            "     Predict: 1.0\n",
            "    Else (feature 7 > 238.5)\n",
            "     If (feature 3 <= 316.0)\n",
            "      Predict: 1.0\n",
            "     Else (feature 3 > 316.0)\n",
            "      If (feature 0 <= 3220.5)\n",
            "       Predict: 2.0\n",
            "      Else (feature 0 > 3220.5)\n",
            "       Predict: 1.0\n",
            "   Else (feature 0 > 3307.5)\n",
            "    If (feature 12 <= 0.5)\n",
            "     If (feature 3 <= 274.5)\n",
            "      If (feature 6 <= 206.5)\n",
            "       Predict: 1.0\n",
            "      Else (feature 6 > 206.5)\n",
            "       Predict: 7.0\n",
            "     Else (feature 3 > 274.5)\n",
            "      Predict: 1.0\n",
            "    Else (feature 12 > 0.5)\n",
            "     If (feature 45 <= 0.5)\n",
            "      If (feature 0 <= 3360.5)\n",
            "       Predict: 1.0\n",
            "      Else (feature 0 > 3360.5)\n",
            "       Predict: 7.0\n",
            "     Else (feature 45 > 0.5)\n",
            "      If (feature 5 <= 993.5)\n",
            "       Predict: 7.0\n",
            "      Else (feature 5 > 993.5)\n",
            "       Predict: 1.0\n",
            "\n"
          ]
        }
      ],
      "source": [
        "from pyspark.ml.classification import DecisionTreeClassifier\n",
        "\n",
        "classifier = DecisionTreeClassifier(seed = 1234, labelCol=\"Cover_Type\",\n",
        "                                    featuresCol=\"featureVector\",\n",
        "                                    predictionCol=\"prediction\")\n",
        "\n",
        "model = classifier.fit(assembled_train_data)\n",
        "print(model.toDebugString)"
      ]
    },
    {
      "cell_type": "code",
      "execution_count": null,
      "metadata": {
        "colab": {
          "base_uri": "https://localhost:8080/",
          "height": 1000
        },
        "id": "wfmf6D9n5nmb",
        "outputId": "12f8f1c3-7459-405c-fb47-4190d96cf13a"
      },
      "outputs": [
        {
          "data": {
            "application/vnd.google.colaboratory.intrinsic+json": {
              "summary": "{\n  \"name\": \"            sort_values(by=\\\"importance\\\", ascending=False)\",\n  \"rows\": 54,\n  \"fields\": [\n    {\n      \"column\": \"importance\",\n      \"properties\": {\n        \"dtype\": \"number\",\n        \"std\": 0.10941132369754895,\n        \"min\": 0.0,\n        \"max\": 0.8046585362507684,\n        \"num_unique_values\": 13,\n        \"samples\": [\n          0.0005077922681228402,\n          0.0024701048819180484,\n          0.8046585362507684\n        ],\n        \"semantic_type\": \"\",\n        \"description\": \"\"\n      }\n    }\n  ]\n}",
              "type": "dataframe"
            },
            "text/html": [
              "\n",
              "  <div id=\"df-b326f012-f43b-43f2-b405-8d7e19f97824\" class=\"colab-df-container\">\n",
              "    <div>\n",
              "<style scoped>\n",
              "    .dataframe tbody tr th:only-of-type {\n",
              "        vertical-align: middle;\n",
              "    }\n",
              "\n",
              "    .dataframe tbody tr th {\n",
              "        vertical-align: top;\n",
              "    }\n",
              "\n",
              "    .dataframe thead th {\n",
              "        text-align: right;\n",
              "    }\n",
              "</style>\n",
              "<table border=\"1\" class=\"dataframe\">\n",
              "  <thead>\n",
              "    <tr style=\"text-align: right;\">\n",
              "      <th></th>\n",
              "      <th>importance</th>\n",
              "    </tr>\n",
              "  </thead>\n",
              "  <tbody>\n",
              "    <tr>\n",
              "      <th>Elevation</th>\n",
              "      <td>0.804659</td>\n",
              "    </tr>\n",
              "    <tr>\n",
              "      <th>Horizontal_Distance_To_Hydrology</th>\n",
              "      <td>0.043469</td>\n",
              "    </tr>\n",
              "    <tr>\n",
              "      <th>Soil_Type_3</th>\n",
              "      <td>0.030876</td>\n",
              "    </tr>\n",
              "    <tr>\n",
              "      <th>Wilderness_Area_0</th>\n",
              "      <td>0.030441</td>\n",
              "    </tr>\n",
              "    <tr>\n",
              "      <th>Hillshade_Noon</th>\n",
              "      <td>0.025705</td>\n",
              "    </tr>\n",
              "    <tr>\n",
              "      <th>Soil_Type_1</th>\n",
              "      <td>0.024217</td>\n",
              "    </tr>\n",
              "    <tr>\n",
              "      <th>Soil_Type_31</th>\n",
              "      <td>0.017041</td>\n",
              "    </tr>\n",
              "    <tr>\n",
              "      <th>Wilderness_Area_2</th>\n",
              "      <td>0.011657</td>\n",
              "    </tr>\n",
              "    <tr>\n",
              "      <th>Soil_Type_22</th>\n",
              "      <td>0.006489</td>\n",
              "    </tr>\n",
              "    <tr>\n",
              "      <th>Horizontal_Distance_To_Roadways</th>\n",
              "      <td>0.002470</td>\n",
              "    </tr>\n",
              "    <tr>\n",
              "      <th>Hillshade_9am</th>\n",
              "      <td>0.002469</td>\n",
              "    </tr>\n",
              "    <tr>\n",
              "      <th>Horizontal_Distance_To_Fire_Points</th>\n",
              "      <td>0.000508</td>\n",
              "    </tr>\n",
              "    <tr>\n",
              "      <th>Vertical_Distance_To_Hydrology</th>\n",
              "      <td>0.000000</td>\n",
              "    </tr>\n",
              "    <tr>\n",
              "      <th>Slope</th>\n",
              "      <td>0.000000</td>\n",
              "    </tr>\n",
              "    <tr>\n",
              "      <th>Wilderness_Area_3</th>\n",
              "      <td>0.000000</td>\n",
              "    </tr>\n",
              "    <tr>\n",
              "      <th>Wilderness_Area_1</th>\n",
              "      <td>0.000000</td>\n",
              "    </tr>\n",
              "    <tr>\n",
              "      <th>Soil_Type_0</th>\n",
              "      <td>0.000000</td>\n",
              "    </tr>\n",
              "    <tr>\n",
              "      <th>Soil_Type_2</th>\n",
              "      <td>0.000000</td>\n",
              "    </tr>\n",
              "    <tr>\n",
              "      <th>Soil_Type_4</th>\n",
              "      <td>0.000000</td>\n",
              "    </tr>\n",
              "    <tr>\n",
              "      <th>Soil_Type_5</th>\n",
              "      <td>0.000000</td>\n",
              "    </tr>\n",
              "    <tr>\n",
              "      <th>Aspect</th>\n",
              "      <td>0.000000</td>\n",
              "    </tr>\n",
              "    <tr>\n",
              "      <th>Hillshade_3pm</th>\n",
              "      <td>0.000000</td>\n",
              "    </tr>\n",
              "    <tr>\n",
              "      <th>Soil_Type_7</th>\n",
              "      <td>0.000000</td>\n",
              "    </tr>\n",
              "    <tr>\n",
              "      <th>Soil_Type_6</th>\n",
              "      <td>0.000000</td>\n",
              "    </tr>\n",
              "    <tr>\n",
              "      <th>Soil_Type_10</th>\n",
              "      <td>0.000000</td>\n",
              "    </tr>\n",
              "    <tr>\n",
              "      <th>Soil_Type_8</th>\n",
              "      <td>0.000000</td>\n",
              "    </tr>\n",
              "    <tr>\n",
              "      <th>Soil_Type_12</th>\n",
              "      <td>0.000000</td>\n",
              "    </tr>\n",
              "    <tr>\n",
              "      <th>Soil_Type_13</th>\n",
              "      <td>0.000000</td>\n",
              "    </tr>\n",
              "    <tr>\n",
              "      <th>Soil_Type_14</th>\n",
              "      <td>0.000000</td>\n",
              "    </tr>\n",
              "    <tr>\n",
              "      <th>Soil_Type_9</th>\n",
              "      <td>0.000000</td>\n",
              "    </tr>\n",
              "    <tr>\n",
              "      <th>Soil_Type_15</th>\n",
              "      <td>0.000000</td>\n",
              "    </tr>\n",
              "    <tr>\n",
              "      <th>Soil_Type_16</th>\n",
              "      <td>0.000000</td>\n",
              "    </tr>\n",
              "    <tr>\n",
              "      <th>Soil_Type_18</th>\n",
              "      <td>0.000000</td>\n",
              "    </tr>\n",
              "    <tr>\n",
              "      <th>Soil_Type_17</th>\n",
              "      <td>0.000000</td>\n",
              "    </tr>\n",
              "    <tr>\n",
              "      <th>Soil_Type_19</th>\n",
              "      <td>0.000000</td>\n",
              "    </tr>\n",
              "    <tr>\n",
              "      <th>Soil_Type_20</th>\n",
              "      <td>0.000000</td>\n",
              "    </tr>\n",
              "    <tr>\n",
              "      <th>Soil_Type_21</th>\n",
              "      <td>0.000000</td>\n",
              "    </tr>\n",
              "    <tr>\n",
              "      <th>Soil_Type_11</th>\n",
              "      <td>0.000000</td>\n",
              "    </tr>\n",
              "    <tr>\n",
              "      <th>Soil_Type_23</th>\n",
              "      <td>0.000000</td>\n",
              "    </tr>\n",
              "    <tr>\n",
              "      <th>Soil_Type_24</th>\n",
              "      <td>0.000000</td>\n",
              "    </tr>\n",
              "    <tr>\n",
              "      <th>Soil_Type_26</th>\n",
              "      <td>0.000000</td>\n",
              "    </tr>\n",
              "    <tr>\n",
              "      <th>Soil_Type_25</th>\n",
              "      <td>0.000000</td>\n",
              "    </tr>\n",
              "    <tr>\n",
              "      <th>Soil_Type_27</th>\n",
              "      <td>0.000000</td>\n",
              "    </tr>\n",
              "    <tr>\n",
              "      <th>Soil_Type_28</th>\n",
              "      <td>0.000000</td>\n",
              "    </tr>\n",
              "    <tr>\n",
              "      <th>Soil_Type_29</th>\n",
              "      <td>0.000000</td>\n",
              "    </tr>\n",
              "    <tr>\n",
              "      <th>Soil_Type_30</th>\n",
              "      <td>0.000000</td>\n",
              "    </tr>\n",
              "    <tr>\n",
              "      <th>Soil_Type_32</th>\n",
              "      <td>0.000000</td>\n",
              "    </tr>\n",
              "    <tr>\n",
              "      <th>Soil_Type_33</th>\n",
              "      <td>0.000000</td>\n",
              "    </tr>\n",
              "    <tr>\n",
              "      <th>Soil_Type_34</th>\n",
              "      <td>0.000000</td>\n",
              "    </tr>\n",
              "    <tr>\n",
              "      <th>Soil_Type_35</th>\n",
              "      <td>0.000000</td>\n",
              "    </tr>\n",
              "    <tr>\n",
              "      <th>Soil_Type_36</th>\n",
              "      <td>0.000000</td>\n",
              "    </tr>\n",
              "    <tr>\n",
              "      <th>Soil_Type_37</th>\n",
              "      <td>0.000000</td>\n",
              "    </tr>\n",
              "    <tr>\n",
              "      <th>Soil_Type_38</th>\n",
              "      <td>0.000000</td>\n",
              "    </tr>\n",
              "    <tr>\n",
              "      <th>Soil_Type_39</th>\n",
              "      <td>0.000000</td>\n",
              "    </tr>\n",
              "  </tbody>\n",
              "</table>\n",
              "</div>\n",
              "    <div class=\"colab-df-buttons\">\n",
              "\n",
              "  <div class=\"colab-df-container\">\n",
              "    <button class=\"colab-df-convert\" onclick=\"convertToInteractive('df-b326f012-f43b-43f2-b405-8d7e19f97824')\"\n",
              "            title=\"Convert this dataframe to an interactive table.\"\n",
              "            style=\"display:none;\">\n",
              "\n",
              "  <svg xmlns=\"http://www.w3.org/2000/svg\" height=\"24px\" viewBox=\"0 -960 960 960\">\n",
              "    <path d=\"M120-120v-720h720v720H120Zm60-500h600v-160H180v160Zm220 220h160v-160H400v160Zm0 220h160v-160H400v160ZM180-400h160v-160H180v160Zm440 0h160v-160H620v160ZM180-180h160v-160H180v160Zm440 0h160v-160H620v160Z\"/>\n",
              "  </svg>\n",
              "    </button>\n",
              "\n",
              "  <style>\n",
              "    .colab-df-container {\n",
              "      display:flex;\n",
              "      gap: 12px;\n",
              "    }\n",
              "\n",
              "    .colab-df-convert {\n",
              "      background-color: #E8F0FE;\n",
              "      border: none;\n",
              "      border-radius: 50%;\n",
              "      cursor: pointer;\n",
              "      display: none;\n",
              "      fill: #1967D2;\n",
              "      height: 32px;\n",
              "      padding: 0 0 0 0;\n",
              "      width: 32px;\n",
              "    }\n",
              "\n",
              "    .colab-df-convert:hover {\n",
              "      background-color: #E2EBFA;\n",
              "      box-shadow: 0px 1px 2px rgba(60, 64, 67, 0.3), 0px 1px 3px 1px rgba(60, 64, 67, 0.15);\n",
              "      fill: #174EA6;\n",
              "    }\n",
              "\n",
              "    .colab-df-buttons div {\n",
              "      margin-bottom: 4px;\n",
              "    }\n",
              "\n",
              "    [theme=dark] .colab-df-convert {\n",
              "      background-color: #3B4455;\n",
              "      fill: #D2E3FC;\n",
              "    }\n",
              "\n",
              "    [theme=dark] .colab-df-convert:hover {\n",
              "      background-color: #434B5C;\n",
              "      box-shadow: 0px 1px 3px 1px rgba(0, 0, 0, 0.15);\n",
              "      filter: drop-shadow(0px 1px 2px rgba(0, 0, 0, 0.3));\n",
              "      fill: #FFFFFF;\n",
              "    }\n",
              "  </style>\n",
              "\n",
              "    <script>\n",
              "      const buttonEl =\n",
              "        document.querySelector('#df-b326f012-f43b-43f2-b405-8d7e19f97824 button.colab-df-convert');\n",
              "      buttonEl.style.display =\n",
              "        google.colab.kernel.accessAllowed ? 'block' : 'none';\n",
              "\n",
              "      async function convertToInteractive(key) {\n",
              "        const element = document.querySelector('#df-b326f012-f43b-43f2-b405-8d7e19f97824');\n",
              "        const dataTable =\n",
              "          await google.colab.kernel.invokeFunction('convertToInteractive',\n",
              "                                                    [key], {});\n",
              "        if (!dataTable) return;\n",
              "\n",
              "        const docLinkHtml = 'Like what you see? Visit the ' +\n",
              "          '<a target=\"_blank\" href=https://colab.research.google.com/notebooks/data_table.ipynb>data table notebook</a>'\n",
              "          + ' to learn more about interactive tables.';\n",
              "        element.innerHTML = '';\n",
              "        dataTable['output_type'] = 'display_data';\n",
              "        await google.colab.output.renderOutput(dataTable, element);\n",
              "        const docLink = document.createElement('div');\n",
              "        docLink.innerHTML = docLinkHtml;\n",
              "        element.appendChild(docLink);\n",
              "      }\n",
              "    </script>\n",
              "  </div>\n",
              "\n",
              "\n",
              "    <div id=\"df-85d95fff-3bfa-4813-9bbb-cdd9e2462cb4\">\n",
              "      <button class=\"colab-df-quickchart\" onclick=\"quickchart('df-85d95fff-3bfa-4813-9bbb-cdd9e2462cb4')\"\n",
              "                title=\"Suggest charts\"\n",
              "                style=\"display:none;\">\n",
              "\n",
              "<svg xmlns=\"http://www.w3.org/2000/svg\" height=\"24px\"viewBox=\"0 0 24 24\"\n",
              "     width=\"24px\">\n",
              "    <g>\n",
              "        <path d=\"M19 3H5c-1.1 0-2 .9-2 2v14c0 1.1.9 2 2 2h14c1.1 0 2-.9 2-2V5c0-1.1-.9-2-2-2zM9 17H7v-7h2v7zm4 0h-2V7h2v10zm4 0h-2v-4h2v4z\"/>\n",
              "    </g>\n",
              "</svg>\n",
              "      </button>\n",
              "\n",
              "<style>\n",
              "  .colab-df-quickchart {\n",
              "      --bg-color: #E8F0FE;\n",
              "      --fill-color: #1967D2;\n",
              "      --hover-bg-color: #E2EBFA;\n",
              "      --hover-fill-color: #174EA6;\n",
              "      --disabled-fill-color: #AAA;\n",
              "      --disabled-bg-color: #DDD;\n",
              "  }\n",
              "\n",
              "  [theme=dark] .colab-df-quickchart {\n",
              "      --bg-color: #3B4455;\n",
              "      --fill-color: #D2E3FC;\n",
              "      --hover-bg-color: #434B5C;\n",
              "      --hover-fill-color: #FFFFFF;\n",
              "      --disabled-bg-color: #3B4455;\n",
              "      --disabled-fill-color: #666;\n",
              "  }\n",
              "\n",
              "  .colab-df-quickchart {\n",
              "    background-color: var(--bg-color);\n",
              "    border: none;\n",
              "    border-radius: 50%;\n",
              "    cursor: pointer;\n",
              "    display: none;\n",
              "    fill: var(--fill-color);\n",
              "    height: 32px;\n",
              "    padding: 0;\n",
              "    width: 32px;\n",
              "  }\n",
              "\n",
              "  .colab-df-quickchart:hover {\n",
              "    background-color: var(--hover-bg-color);\n",
              "    box-shadow: 0 1px 2px rgba(60, 64, 67, 0.3), 0 1px 3px 1px rgba(60, 64, 67, 0.15);\n",
              "    fill: var(--button-hover-fill-color);\n",
              "  }\n",
              "\n",
              "  .colab-df-quickchart-complete:disabled,\n",
              "  .colab-df-quickchart-complete:disabled:hover {\n",
              "    background-color: var(--disabled-bg-color);\n",
              "    fill: var(--disabled-fill-color);\n",
              "    box-shadow: none;\n",
              "  }\n",
              "\n",
              "  .colab-df-spinner {\n",
              "    border: 2px solid var(--fill-color);\n",
              "    border-color: transparent;\n",
              "    border-bottom-color: var(--fill-color);\n",
              "    animation:\n",
              "      spin 1s steps(1) infinite;\n",
              "  }\n",
              "\n",
              "  @keyframes spin {\n",
              "    0% {\n",
              "      border-color: transparent;\n",
              "      border-bottom-color: var(--fill-color);\n",
              "      border-left-color: var(--fill-color);\n",
              "    }\n",
              "    20% {\n",
              "      border-color: transparent;\n",
              "      border-left-color: var(--fill-color);\n",
              "      border-top-color: var(--fill-color);\n",
              "    }\n",
              "    30% {\n",
              "      border-color: transparent;\n",
              "      border-left-color: var(--fill-color);\n",
              "      border-top-color: var(--fill-color);\n",
              "      border-right-color: var(--fill-color);\n",
              "    }\n",
              "    40% {\n",
              "      border-color: transparent;\n",
              "      border-right-color: var(--fill-color);\n",
              "      border-top-color: var(--fill-color);\n",
              "    }\n",
              "    60% {\n",
              "      border-color: transparent;\n",
              "      border-right-color: var(--fill-color);\n",
              "    }\n",
              "    80% {\n",
              "      border-color: transparent;\n",
              "      border-right-color: var(--fill-color);\n",
              "      border-bottom-color: var(--fill-color);\n",
              "    }\n",
              "    90% {\n",
              "      border-color: transparent;\n",
              "      border-bottom-color: var(--fill-color);\n",
              "    }\n",
              "  }\n",
              "</style>\n",
              "\n",
              "      <script>\n",
              "        async function quickchart(key) {\n",
              "          const quickchartButtonEl =\n",
              "            document.querySelector('#' + key + ' button');\n",
              "          quickchartButtonEl.disabled = true;  // To prevent multiple clicks.\n",
              "          quickchartButtonEl.classList.add('colab-df-spinner');\n",
              "          try {\n",
              "            const charts = await google.colab.kernel.invokeFunction(\n",
              "                'suggestCharts', [key], {});\n",
              "          } catch (error) {\n",
              "            console.error('Error during call to suggestCharts:', error);\n",
              "          }\n",
              "          quickchartButtonEl.classList.remove('colab-df-spinner');\n",
              "          quickchartButtonEl.classList.add('colab-df-quickchart-complete');\n",
              "        }\n",
              "        (() => {\n",
              "          let quickchartButtonEl =\n",
              "            document.querySelector('#df-85d95fff-3bfa-4813-9bbb-cdd9e2462cb4 button');\n",
              "          quickchartButtonEl.style.display =\n",
              "            google.colab.kernel.accessAllowed ? 'block' : 'none';\n",
              "        })();\n",
              "      </script>\n",
              "    </div>\n",
              "\n",
              "    </div>\n",
              "  </div>\n"
            ],
            "text/plain": [
              "                                    importance\n",
              "Elevation                             0.804659\n",
              "Horizontal_Distance_To_Hydrology      0.043469\n",
              "Soil_Type_3                           0.030876\n",
              "Wilderness_Area_0                     0.030441\n",
              "Hillshade_Noon                        0.025705\n",
              "Soil_Type_1                           0.024217\n",
              "Soil_Type_31                          0.017041\n",
              "Wilderness_Area_2                     0.011657\n",
              "Soil_Type_22                          0.006489\n",
              "Horizontal_Distance_To_Roadways       0.002470\n",
              "Hillshade_9am                         0.002469\n",
              "Horizontal_Distance_To_Fire_Points    0.000508\n",
              "Vertical_Distance_To_Hydrology        0.000000\n",
              "Slope                                 0.000000\n",
              "Wilderness_Area_3                     0.000000\n",
              "Wilderness_Area_1                     0.000000\n",
              "Soil_Type_0                           0.000000\n",
              "Soil_Type_2                           0.000000\n",
              "Soil_Type_4                           0.000000\n",
              "Soil_Type_5                           0.000000\n",
              "Aspect                                0.000000\n",
              "Hillshade_3pm                         0.000000\n",
              "Soil_Type_7                           0.000000\n",
              "Soil_Type_6                           0.000000\n",
              "Soil_Type_10                          0.000000\n",
              "Soil_Type_8                           0.000000\n",
              "Soil_Type_12                          0.000000\n",
              "Soil_Type_13                          0.000000\n",
              "Soil_Type_14                          0.000000\n",
              "Soil_Type_9                           0.000000\n",
              "Soil_Type_15                          0.000000\n",
              "Soil_Type_16                          0.000000\n",
              "Soil_Type_18                          0.000000\n",
              "Soil_Type_17                          0.000000\n",
              "Soil_Type_19                          0.000000\n",
              "Soil_Type_20                          0.000000\n",
              "Soil_Type_21                          0.000000\n",
              "Soil_Type_11                          0.000000\n",
              "Soil_Type_23                          0.000000\n",
              "Soil_Type_24                          0.000000\n",
              "Soil_Type_26                          0.000000\n",
              "Soil_Type_25                          0.000000\n",
              "Soil_Type_27                          0.000000\n",
              "Soil_Type_28                          0.000000\n",
              "Soil_Type_29                          0.000000\n",
              "Soil_Type_30                          0.000000\n",
              "Soil_Type_32                          0.000000\n",
              "Soil_Type_33                          0.000000\n",
              "Soil_Type_34                          0.000000\n",
              "Soil_Type_35                          0.000000\n",
              "Soil_Type_36                          0.000000\n",
              "Soil_Type_37                          0.000000\n",
              "Soil_Type_38                          0.000000\n",
              "Soil_Type_39                          0.000000"
            ]
          },
          "execution_count": 12,
          "metadata": {},
          "output_type": "execute_result"
        }
      ],
      "source": [
        "import pandas as pd\n",
        "\n",
        "pd.DataFrame(model.featureImportances.toArray(),\n",
        "            index=input_cols, columns=['importance']).\\\n",
        "            sort_values(by=\"importance\", ascending=False)"
      ]
    },
    {
      "cell_type": "markdown",
      "metadata": {
        "id": "C494cgLE6hcT"
      },
      "source": [
        "Make predictions on the training data and compare them to the actual values."
      ]
    },
    {
      "cell_type": "code",
      "execution_count": null,
      "metadata": {
        "colab": {
          "base_uri": "https://localhost:8080/"
        },
        "id": "YVv_-ySW6g7d",
        "outputId": "69fc1891-6b3c-4d16-92b6-8810d8afc874"
      },
      "outputs": [
        {
          "name": "stdout",
          "output_type": "stream",
          "text": [
            "+----------+----------+----------------------------------------------------------------------------------------------+\n",
            "|Cover_Type|prediction|probability                                                                                   |\n",
            "+----------+----------+----------------------------------------------------------------------------------------------+\n",
            "|3.0       |3.0       |[0.0,0.0,0.0327672889638927,0.633864219667405,0.05094399324965721,0.0,0.28242449811904513,0.0]|\n",
            "|3.0       |3.0       |[0.0,0.0,0.0327672889638927,0.633864219667405,0.05094399324965721,0.0,0.28242449811904513,0.0]|\n",
            "|3.0       |3.0       |[0.0,0.0,0.0327672889638927,0.633864219667405,0.05094399324965721,0.0,0.28242449811904513,0.0]|\n",
            "|6.0       |3.0       |[0.0,0.0,0.0327672889638927,0.633864219667405,0.05094399324965721,0.0,0.28242449811904513,0.0]|\n",
            "|3.0       |3.0       |[0.0,0.0,0.0327672889638927,0.633864219667405,0.05094399324965721,0.0,0.28242449811904513,0.0]|\n",
            "|3.0       |3.0       |[0.0,0.0,0.0327672889638927,0.633864219667405,0.05094399324965721,0.0,0.28242449811904513,0.0]|\n",
            "|3.0       |3.0       |[0.0,0.0,0.0327672889638927,0.633864219667405,0.05094399324965721,0.0,0.28242449811904513,0.0]|\n",
            "|6.0       |3.0       |[0.0,0.0,0.0327672889638927,0.633864219667405,0.05094399324965721,0.0,0.28242449811904513,0.0]|\n",
            "|6.0       |3.0       |[0.0,0.0,0.0327672889638927,0.633864219667405,0.05094399324965721,0.0,0.28242449811904513,0.0]|\n",
            "|6.0       |3.0       |[0.0,0.0,0.0327672889638927,0.633864219667405,0.05094399324965721,0.0,0.28242449811904513,0.0]|\n",
            "+----------+----------+----------------------------------------------------------------------------------------------+\n",
            "only showing top 10 rows\n",
            "\n"
          ]
        }
      ],
      "source": [
        "# Ignore value at probability[0], it's always zero.\n",
        "\n",
        "predictions = model.transform(assembled_train_data)\n",
        "predictions.select(\"Cover_Type\", \"prediction\",\"probability\").show(10, truncate=False)"
      ]
    },
    {
      "cell_type": "markdown",
      "metadata": {
        "id": "EFQqxHpGBM18"
      },
      "source": [
        "Let's evaluate the model performance..."
      ]
    },
    {
      "cell_type": "code",
      "execution_count": null,
      "metadata": {
        "colab": {
          "base_uri": "https://localhost:8080/"
        },
        "id": "YJTO2QeFBJLg",
        "outputId": "a3041c6d-4ec7-42df-98c2-7e48944f1893"
      },
      "outputs": [
        {
          "data": {
            "text/plain": [
              "(0.7016050244242847, 0.6841008078836962)"
            ]
          },
          "execution_count": 14,
          "metadata": {},
          "output_type": "execute_result"
        }
      ],
      "source": [
        "from pyspark.ml.evaluation import MulticlassClassificationEvaluator\n",
        "\n",
        "evaluator = MulticlassClassificationEvaluator(labelCol=\"Cover_Type\",\n",
        "                                        predictionCol=\"prediction\")\n",
        "\n",
        "evaluator.setMetricName(\"accuracy\").evaluate(predictions),evaluator.setMetricName(\"f1\").evaluate(predictions)"
      ]
    },
    {
      "cell_type": "markdown",
      "metadata": {
        "id": "HySJIl70Btgh"
      },
      "source": [
        "Generate a confusion matrix..."
      ]
    },
    {
      "cell_type": "code",
      "execution_count": null,
      "metadata": {
        "colab": {
          "base_uri": "https://localhost:8080/"
        },
        "id": "8c_mkDfK4JyK",
        "outputId": "c66f9843-cf74-416a-d0f8-a1ce0e9ee3f1"
      },
      "outputs": [
        {
          "name": "stdout",
          "output_type": "stream",
          "text": [
            "+----------+------+------+-----+---+---+---+----+\n",
            "|Cover_Type|     1|     2|    3|  4|  5|  6|   7|\n",
            "+----------+------+------+-----+---+---+---+----+\n",
            "|       1.0|135914| 51503|  165|  0|  0|  0|3206|\n",
            "|       2.0| 53873|196169| 4280| 94| 49|  0| 533|\n",
            "|       3.0|     0|  6001|25557|657|  0|  0|   0|\n",
            "|       4.0|     0|    25| 1449|994|  0|  0|   0|\n",
            "|       5.0|     7|  7729|  739|  0| 85|  0|   0|\n",
            "|       6.0|     0|  6327| 8748|529|  0|  0|   0|\n",
            "|       7.0| 10086|    19|   55|  0|  0|  0|8252|\n",
            "+----------+------+------+-----+---+---+---+----+\n",
            "\n"
          ]
        }
      ],
      "source": [
        "confusion_matrix = predictions.groupBy(\"Cover_Type\").\\\n",
        "  pivot(\"prediction\", range(1,8)).count().\\\n",
        "  na.fill(0.0).\\\n",
        "  orderBy(\"Cover_Type\")\n",
        "\n",
        "confusion_matrix.show()"
      ]
    },
    {
      "cell_type": "code",
      "execution_count": null,
      "metadata": {
        "id": "9b2zZYrv7aLj"
      },
      "outputs": [],
      "source": [
        "from pyspark.sql import DataFrame\n",
        "\n",
        "def class_probabilities(data):\n",
        "    total = data.count()\n",
        "    return data.groupBy(\"Cover_Type\").count().\\\n",
        "    orderBy(\"Cover_Type\").select(F.col(\"count\").cast(T.DoubleType())).\\\n",
        "    withColumn(\"count_proportion\", F.col(\"count\")/total).\\\n",
        "    select(\"count_proportion\").collect()\n"
      ]
    },
    {
      "cell_type": "code",
      "execution_count": null,
      "metadata": {
        "colab": {
          "base_uri": "https://localhost:8080/"
        },
        "id": "eOR1NSQD76MJ",
        "outputId": "76cae052-b5a5-411b-a0cc-a4f12eb03532"
      },
      "outputs": [
        {
          "data": {
            "text/plain": [
              "([Row(count_proportion=0.3647640260398245),\n",
              "  Row(count_proportion=0.48752592989130955),\n",
              "  Row(count_proportion=0.06159125887829919),\n",
              "  Row(count_proportion=0.004718523262816775),\n",
              "  Row(count_proportion=0.01636570467168217),\n",
              "  Row(count_proportion=0.02983299716085614),\n",
              "  Row(count_proportion=0.03520156009521169)],\n",
              " [Row(count_proportion=0.36317214967136474),\n",
              "  Row(count_proportion=0.48826056204392154),\n",
              "  Row(count_proportion=0.061051977849466074),\n",
              "  Row(count_proportion=0.004813083306018942),\n",
              "  Row(count_proportion=0.016095364603998828),\n",
              "  Row(count_proportion=0.030413856159539048),\n",
              "  Row(count_proportion=0.036193006365690825)])"
            ]
          },
          "execution_count": 23,
          "metadata": {},
          "output_type": "execute_result"
        }
      ],
      "source": [
        "train_prior_probabilities = class_probabilities(train_data)\n",
        "test_prior_probabilities = class_probabilities(test_data)\n",
        "\n",
        "train_prior_probabilities, test_prior_probabilities"
      ]
    },
    {
      "cell_type": "markdown",
      "metadata": {
        "id": "R73lE8L18kqt"
      },
      "source": [
        "Convert train and test probabilities to a list"
      ]
    },
    {
      "cell_type": "code",
      "execution_count": null,
      "metadata": {
        "colab": {
          "base_uri": "https://localhost:8080/"
        },
        "id": "WW2bKhS98UrO",
        "outputId": "b2644c99-2ba1-4b6c-a0a4-544b9503ea13"
      },
      "outputs": [
        {
          "data": {
            "text/plain": [
              "([0.3647640260398245,\n",
              "  0.48752592989130955,\n",
              "  0.06159125887829919,\n",
              "  0.004718523262816775,\n",
              "  0.01636570467168217,\n",
              "  0.02983299716085614,\n",
              "  0.03520156009521169],\n",
              " [0.36317214967136474,\n",
              "  0.48826056204392154,\n",
              "  0.061051977849466074,\n",
              "  0.004813083306018942,\n",
              "  0.016095364603998828,\n",
              "  0.030413856159539048,\n",
              "  0.036193006365690825])"
            ]
          },
          "execution_count": 24,
          "metadata": {},
          "output_type": "execute_result"
        }
      ],
      "source": [
        "train_prior_probabilities = [p[0] for p in train_prior_probabilities]\n",
        "test_prior_probabilities = [p[0] for p in test_prior_probabilities]\n",
        "train_prior_probabilities, test_prior_probabilities"
      ]
    },
    {
      "cell_type": "markdown",
      "metadata": {
        "id": "bYp8-XpK8weE"
      },
      "source": [
        "$\\sum{(P_{i}|train)(P_{i}|test)}$ for each `Cover_Type` value $i$ to determine accuracy of a random guess."
      ]
    },
    {
      "cell_type": "code",
      "execution_count": null,
      "metadata": {
        "colab": {
          "base_uri": "https://localhost:8080/"
        },
        "id": "_dnfFxSK9nzZ",
        "outputId": "500ce68c-e12e-4429-dfd4-750d64430f5d"
      },
      "outputs": [
        {
          "name": "stdout",
          "output_type": "stream",
          "text": [
            "[(0.3647640260398245, 0.36317214967136474), (0.48752592989130955, 0.48826056204392154), (0.06159125887829919, 0.061051977849466074), (0.004718523262816775, 0.004813083306018942), (0.01636570467168217, 0.016095364603998828), (0.02983299716085614, 0.030413856159539048), (0.03520156009521169, 0.036193006365690825)]\n"
          ]
        }
      ],
      "source": [
        "print(list(zip(train_prior_probabilities, test_prior_probabilities)))"
      ]
    },
    {
      "cell_type": "code",
      "execution_count": null,
      "metadata": {
        "colab": {
          "base_uri": "https://localhost:8080/"
        },
        "id": "W-QcWAXn8eZo",
        "outputId": "4e1425c4-c675-4b30-c79f-64e07ac1f293"
      },
      "outputs": [
        {
          "data": {
            "text/plain": [
              "0.3767395975744436"
            ]
          },
          "execution_count": 30,
          "metadata": {},
          "output_type": "execute_result"
        }
      ],
      "source": [
        "sum([train_p * cv_p for train_p, cv_p in zip(train_prior_probabilities,\n",
        "                                              test_prior_probabilities)])"
      ]
    },
    {
      "cell_type": "markdown",
      "metadata": {
        "id": "ViFL4WK5-K39"
      },
      "source": [
        "Random guessing achieves 37% accuracy then, which makes 70% seem like a good result after all. But the latter result was achieved with default hyperparameters.\n",
        "\n",
        "\n"
      ]
    },
    {
      "cell_type": "markdown",
      "metadata": {
        "id": "6Oz0iOEoGnxj"
      },
      "source": [
        "Now, we create a pipeline to automate some processes to perform hyperparameter tuning"
      ]
    },
    {
      "cell_type": "code",
      "execution_count": null,
      "metadata": {
        "colab": {
          "base_uri": "https://localhost:8080/"
        },
        "id": "Dk7VFrTaG36o",
        "outputId": "d7006245-a82a-463f-ee4c-f2bd5147309c"
      },
      "outputs": [
        {
          "data": {
            "text/plain": [
              "Pipeline_b99f1c444a26"
            ]
          },
          "execution_count": 32,
          "metadata": {},
          "output_type": "execute_result"
        }
      ],
      "source": [
        "from pyspark.ml import Pipeline\n",
        "\n",
        "assembler = VectorAssembler(inputCols=input_cols, outputCol=\"featureVector\")\n",
        "classifier = DecisionTreeClassifier(seed=1234, labelCol=\"Cover_Type\",\n",
        "                                    featuresCol=\"featureVector\",\n",
        "                                    predictionCol=\"prediction\")\n",
        "\n",
        "pipeline = Pipeline(stages=[assembler, classifier])"
      ]
    },
    {
      "cell_type": "code",
      "execution_count": null,
      "metadata": {
        "id": "sqMbsVbXN0rM"
      },
      "outputs": [],
      "source": [
        "from pyspark.ml.tuning import ParamGridBuilder\n",
        "\n",
        "paramGrid = ParamGridBuilder(). \\\n",
        "  addGrid(classifier.impurity, [\"gini\", \"entropy\"]). \\\n",
        "  addGrid(classifier.maxDepth, [1, 20]). \\\n",
        "  addGrid(classifier.maxBins, [40, 300]). \\\n",
        "  addGrid(classifier.minInfoGain, [0.0, 0.05]). \\\n",
        "  build()\n",
        "\n",
        "multiclassEval = MulticlassClassificationEvaluator(). \\\n",
        "  setLabelCol(\"Cover_Type\"). \\\n",
        "  setPredictionCol(\"prediction\"). \\\n",
        "  setMetricName(\"accuracy\")"
      ]
    },
    {
      "cell_type": "code",
      "execution_count": null,
      "metadata": {
        "colab": {
          "background_save": true
        },
        "id": "gZ4ERMnPOQ23"
      },
      "outputs": [],
      "source": [
        "from pyspark.ml.tuning import TrainValidationSplit\n",
        "\n",
        "validator = TrainValidationSplit(seed=1234,\n",
        "  estimator=pipeline,\n",
        "  evaluator=multiclassEval,\n",
        "  estimatorParamMaps=paramGrid,\n",
        "  trainRatio=0.9)\n",
        "\n",
        "validator_model = validator.fit(train_data)"
      ]
    },
    {
      "cell_type": "code",
      "source": [
        "from pprint import pprint\n",
        "\n",
        "best_model = validator_model.bestModel\n",
        "pprint(best_model.stages[1].extractParamMap())"
      ],
      "metadata": {
        "colab": {
          "base_uri": "https://localhost:8080/"
        },
        "id": "exJ9AiPubANN",
        "outputId": "3e84f1d0-dbab-4a53-9dc8-dbd77b38266d"
      },
      "execution_count": 36,
      "outputs": [
        {
          "output_type": "stream",
          "name": "stdout",
          "text": [
            "{Param(parent='DecisionTreeClassifier_d2ffaba31c55', name='labelCol', doc='label column name.'): 'Cover_Type',\n",
            " Param(parent='DecisionTreeClassifier_d2ffaba31c55', name='maxDepth', doc='Maximum depth of the tree. (>= 0) E.g., depth 0 means 1 leaf node; depth 1 means 1 internal node + 2 leaf nodes. Must be in range [0, 30].'): 20,\n",
            " Param(parent='DecisionTreeClassifier_d2ffaba31c55', name='minInstancesPerNode', doc='Minimum number of instances each child must have after split. If a split causes the left or right child to have fewer than minInstancesPerNode, the split will be discarded as invalid. Should be >= 1.'): 1,\n",
            " Param(parent='DecisionTreeClassifier_d2ffaba31c55', name='leafCol', doc='Leaf indices column name. Predicted leaf index of each instance in each tree by preorder.'): '',\n",
            " Param(parent='DecisionTreeClassifier_d2ffaba31c55', name='minInfoGain', doc='Minimum information gain for a split to be considered at a tree node.'): 0.0,\n",
            " Param(parent='DecisionTreeClassifier_d2ffaba31c55', name='impurity', doc='Criterion used for information gain calculation (case-insensitive). Supported options: entropy, gini'): 'entropy',\n",
            " Param(parent='DecisionTreeClassifier_d2ffaba31c55', name='maxMemoryInMB', doc='Maximum memory in MB allocated to histogram aggregation. If too small, then 1 node will be split per iteration, and its aggregates may exceed this size.'): 256,\n",
            " Param(parent='DecisionTreeClassifier_d2ffaba31c55', name='maxBins', doc='Max number of bins for discretizing continuous features.  Must be >=2 and >= number of categories for any categorical feature.'): 40,\n",
            " Param(parent='DecisionTreeClassifier_d2ffaba31c55', name='minWeightFractionPerNode', doc='Minimum fraction of the weighted sample count that each child must have after split. If a split causes the fraction of the total weight in the left or right child to be less than minWeightFractionPerNode, the split will be discarded as invalid. Should be in interval [0.0, 0.5).'): 0.0,\n",
            " Param(parent='DecisionTreeClassifier_d2ffaba31c55', name='checkpointInterval', doc='set checkpoint interval (>= 1) or disable checkpoint (-1). E.g. 10 means that the cache will get checkpointed every 10 iterations. Note: this setting will be ignored if the checkpoint directory is not set in the SparkContext.'): 10,\n",
            " Param(parent='DecisionTreeClassifier_d2ffaba31c55', name='featuresCol', doc='features column name.'): 'featureVector',\n",
            " Param(parent='DecisionTreeClassifier_d2ffaba31c55', name='predictionCol', doc='prediction column name.'): 'prediction',\n",
            " Param(parent='DecisionTreeClassifier_d2ffaba31c55', name='rawPredictionCol', doc='raw prediction (a.k.a. confidence) column name.'): 'rawPrediction',\n",
            " Param(parent='DecisionTreeClassifier_d2ffaba31c55', name='probabilityCol', doc='Column name for predicted class conditional probabilities. Note: Not all models output well-calibrated probability estimates! These probabilities should be treated as confidences, not precise probabilities.'): 'probability',\n",
            " Param(parent='DecisionTreeClassifier_d2ffaba31c55', name='seed', doc='random seed.'): 1234,\n",
            " Param(parent='DecisionTreeClassifier_d2ffaba31c55', name='cacheNodeIds', doc='If false, the algorithm will pass trees to executors to match instances with nodes. If true, the algorithm will cache node IDs for each instance. Caching can speed up training of deeper trees. Users can set how often should the cache be checkpointed or disable it by setting checkpointInterval.'): False}\n"
          ]
        }
      ]
    },
    {
      "cell_type": "code",
      "source": [
        "metrics = validator_model.validationMetrics\n",
        "params = validator_model.getEstimatorParamMaps()\n",
        "metrics_params = list(zip(metrics, params))\n",
        "metrics_params"
      ],
      "metadata": {
        "colab": {
          "base_uri": "https://localhost:8080/"
        },
        "id": "VOGdp1evbbUp",
        "outputId": "17a9db75-0130-46af-fe19-dfb1602f1bf8"
      },
      "execution_count": 37,
      "outputs": [
        {
          "output_type": "execute_result",
          "data": {
            "text/plain": [
              "[(0.6352581845948267,\n",
              "  {Param(parent='DecisionTreeClassifier_d2ffaba31c55', name='impurity', doc='Criterion used for information gain calculation (case-insensitive). Supported options: entropy, gini'): 'gini',\n",
              "   Param(parent='DecisionTreeClassifier_d2ffaba31c55', name='maxDepth', doc='Maximum depth of the tree. (>= 0) E.g., depth 0 means 1 leaf node; depth 1 means 1 internal node + 2 leaf nodes. Must be in range [0, 30].'): 1,\n",
              "   Param(parent='DecisionTreeClassifier_d2ffaba31c55', name='maxBins', doc='Max number of bins for discretizing continuous features.  Must be >=2 and >= number of categories for any categorical feature.'): 40,\n",
              "   Param(parent='DecisionTreeClassifier_d2ffaba31c55', name='minInfoGain', doc='Minimum information gain for a split to be considered at a tree node.'): 0.0}),\n",
              " (0.6352581845948267,\n",
              "  {Param(parent='DecisionTreeClassifier_d2ffaba31c55', name='impurity', doc='Criterion used for information gain calculation (case-insensitive). Supported options: entropy, gini'): 'gini',\n",
              "   Param(parent='DecisionTreeClassifier_d2ffaba31c55', name='maxDepth', doc='Maximum depth of the tree. (>= 0) E.g., depth 0 means 1 leaf node; depth 1 means 1 internal node + 2 leaf nodes. Must be in range [0, 30].'): 1,\n",
              "   Param(parent='DecisionTreeClassifier_d2ffaba31c55', name='maxBins', doc='Max number of bins for discretizing continuous features.  Must be >=2 and >= number of categories for any categorical feature.'): 40,\n",
              "   Param(parent='DecisionTreeClassifier_d2ffaba31c55', name='minInfoGain', doc='Minimum information gain for a split to be considered at a tree node.'): 0.05}),\n",
              " (0.6346091438388852,\n",
              "  {Param(parent='DecisionTreeClassifier_d2ffaba31c55', name='impurity', doc='Criterion used for information gain calculation (case-insensitive). Supported options: entropy, gini'): 'gini',\n",
              "   Param(parent='DecisionTreeClassifier_d2ffaba31c55', name='maxDepth', doc='Maximum depth of the tree. (>= 0) E.g., depth 0 means 1 leaf node; depth 1 means 1 internal node + 2 leaf nodes. Must be in range [0, 30].'): 1,\n",
              "   Param(parent='DecisionTreeClassifier_d2ffaba31c55', name='maxBins', doc='Max number of bins for discretizing continuous features.  Must be >=2 and >= number of categories for any categorical feature.'): 300,\n",
              "   Param(parent='DecisionTreeClassifier_d2ffaba31c55', name='minInfoGain', doc='Minimum information gain for a split to be considered at a tree node.'): 0.0}),\n",
              " (0.6346091438388852,\n",
              "  {Param(parent='DecisionTreeClassifier_d2ffaba31c55', name='impurity', doc='Criterion used for information gain calculation (case-insensitive). Supported options: entropy, gini'): 'gini',\n",
              "   Param(parent='DecisionTreeClassifier_d2ffaba31c55', name='maxDepth', doc='Maximum depth of the tree. (>= 0) E.g., depth 0 means 1 leaf node; depth 1 means 1 internal node + 2 leaf nodes. Must be in range [0, 30].'): 1,\n",
              "   Param(parent='DecisionTreeClassifier_d2ffaba31c55', name='maxBins', doc='Max number of bins for discretizing continuous features.  Must be >=2 and >= number of categories for any categorical feature.'): 300,\n",
              "   Param(parent='DecisionTreeClassifier_d2ffaba31c55', name='minInfoGain', doc='Minimum information gain for a split to be considered at a tree node.'): 0.05}),\n",
              " (0.9064235945404219,\n",
              "  {Param(parent='DecisionTreeClassifier_d2ffaba31c55', name='impurity', doc='Criterion used for information gain calculation (case-insensitive). Supported options: entropy, gini'): 'gini',\n",
              "   Param(parent='DecisionTreeClassifier_d2ffaba31c55', name='maxDepth', doc='Maximum depth of the tree. (>= 0) E.g., depth 0 means 1 leaf node; depth 1 means 1 internal node + 2 leaf nodes. Must be in range [0, 30].'): 20,\n",
              "   Param(parent='DecisionTreeClassifier_d2ffaba31c55', name='maxBins', doc='Max number of bins for discretizing continuous features.  Must be >=2 and >= number of categories for any categorical feature.'): 40,\n",
              "   Param(parent='DecisionTreeClassifier_d2ffaba31c55', name='minInfoGain', doc='Minimum information gain for a split to be considered at a tree node.'): 0.0}),\n",
              " (0.6729598167414336,\n",
              "  {Param(parent='DecisionTreeClassifier_d2ffaba31c55', name='impurity', doc='Criterion used for information gain calculation (case-insensitive). Supported options: entropy, gini'): 'gini',\n",
              "   Param(parent='DecisionTreeClassifier_d2ffaba31c55', name='maxDepth', doc='Maximum depth of the tree. (>= 0) E.g., depth 0 means 1 leaf node; depth 1 means 1 internal node + 2 leaf nodes. Must be in range [0, 30].'): 20,\n",
              "   Param(parent='DecisionTreeClassifier_d2ffaba31c55', name='maxBins', doc='Max number of bins for discretizing continuous features.  Must be >=2 and >= number of categories for any categorical feature.'): 40,\n",
              "   Param(parent='DecisionTreeClassifier_d2ffaba31c55', name='minInfoGain', doc='Minimum information gain for a split to be considered at a tree node.'): 0.05}),\n",
              " (0.902911138684738,\n",
              "  {Param(parent='DecisionTreeClassifier_d2ffaba31c55', name='impurity', doc='Criterion used for information gain calculation (case-insensitive). Supported options: entropy, gini'): 'gini',\n",
              "   Param(parent='DecisionTreeClassifier_d2ffaba31c55', name='maxDepth', doc='Maximum depth of the tree. (>= 0) E.g., depth 0 means 1 leaf node; depth 1 means 1 internal node + 2 leaf nodes. Must be in range [0, 30].'): 20,\n",
              "   Param(parent='DecisionTreeClassifier_d2ffaba31c55', name='maxBins', doc='Max number of bins for discretizing continuous features.  Must be >=2 and >= number of categories for any categorical feature.'): 300,\n",
              "   Param(parent='DecisionTreeClassifier_d2ffaba31c55', name='minInfoGain', doc='Minimum information gain for a split to be considered at a tree node.'): 0.0}),\n",
              " (0.6718908084375298,\n",
              "  {Param(parent='DecisionTreeClassifier_d2ffaba31c55', name='impurity', doc='Criterion used for information gain calculation (case-insensitive). Supported options: entropy, gini'): 'gini',\n",
              "   Param(parent='DecisionTreeClassifier_d2ffaba31c55', name='maxDepth', doc='Maximum depth of the tree. (>= 0) E.g., depth 0 means 1 leaf node; depth 1 means 1 internal node + 2 leaf nodes. Must be in range [0, 30].'): 20,\n",
              "   Param(parent='DecisionTreeClassifier_d2ffaba31c55', name='maxBins', doc='Max number of bins for discretizing continuous features.  Must be >=2 and >= number of categories for any categorical feature.'): 300,\n",
              "   Param(parent='DecisionTreeClassifier_d2ffaba31c55', name='minInfoGain', doc='Minimum information gain for a split to be considered at a tree node.'): 0.05}),\n",
              " (0.486799656390188,\n",
              "  {Param(parent='DecisionTreeClassifier_d2ffaba31c55', name='impurity', doc='Criterion used for information gain calculation (case-insensitive). Supported options: entropy, gini'): 'entropy',\n",
              "   Param(parent='DecisionTreeClassifier_d2ffaba31c55', name='maxDepth', doc='Maximum depth of the tree. (>= 0) E.g., depth 0 means 1 leaf node; depth 1 means 1 internal node + 2 leaf nodes. Must be in range [0, 30].'): 1,\n",
              "   Param(parent='DecisionTreeClassifier_d2ffaba31c55', name='maxBins', doc='Max number of bins for discretizing continuous features.  Must be >=2 and >= number of categories for any categorical feature.'): 40,\n",
              "   Param(parent='DecisionTreeClassifier_d2ffaba31c55', name='minInfoGain', doc='Minimum information gain for a split to be considered at a tree node.'): 0.0}),\n",
              " (0.486799656390188,\n",
              "  {Param(parent='DecisionTreeClassifier_d2ffaba31c55', name='impurity', doc='Criterion used for information gain calculation (case-insensitive). Supported options: entropy, gini'): 'entropy',\n",
              "   Param(parent='DecisionTreeClassifier_d2ffaba31c55', name='maxDepth', doc='Maximum depth of the tree. (>= 0) E.g., depth 0 means 1 leaf node; depth 1 means 1 internal node + 2 leaf nodes. Must be in range [0, 30].'): 1,\n",
              "   Param(parent='DecisionTreeClassifier_d2ffaba31c55', name='maxBins', doc='Max number of bins for discretizing continuous features.  Must be >=2 and >= number of categories for any categorical feature.'): 40,\n",
              "   Param(parent='DecisionTreeClassifier_d2ffaba31c55', name='minInfoGain', doc='Minimum information gain for a split to be considered at a tree node.'): 0.05}),\n",
              " (0.486799656390188,\n",
              "  {Param(parent='DecisionTreeClassifier_d2ffaba31c55', name='impurity', doc='Criterion used for information gain calculation (case-insensitive). Supported options: entropy, gini'): 'entropy',\n",
              "   Param(parent='DecisionTreeClassifier_d2ffaba31c55', name='maxDepth', doc='Maximum depth of the tree. (>= 0) E.g., depth 0 means 1 leaf node; depth 1 means 1 internal node + 2 leaf nodes. Must be in range [0, 30].'): 1,\n",
              "   Param(parent='DecisionTreeClassifier_d2ffaba31c55', name='maxBins', doc='Max number of bins for discretizing continuous features.  Must be >=2 and >= number of categories for any categorical feature.'): 300,\n",
              "   Param(parent='DecisionTreeClassifier_d2ffaba31c55', name='minInfoGain', doc='Minimum information gain for a split to be considered at a tree node.'): 0.0}),\n",
              " (0.486799656390188,\n",
              "  {Param(parent='DecisionTreeClassifier_d2ffaba31c55', name='impurity', doc='Criterion used for information gain calculation (case-insensitive). Supported options: entropy, gini'): 'entropy',\n",
              "   Param(parent='DecisionTreeClassifier_d2ffaba31c55', name='maxDepth', doc='Maximum depth of the tree. (>= 0) E.g., depth 0 means 1 leaf node; depth 1 means 1 internal node + 2 leaf nodes. Must be in range [0, 30].'): 1,\n",
              "   Param(parent='DecisionTreeClassifier_d2ffaba31c55', name='maxBins', doc='Max number of bins for discretizing continuous features.  Must be >=2 and >= number of categories for any categorical feature.'): 300,\n",
              "   Param(parent='DecisionTreeClassifier_d2ffaba31c55', name='minInfoGain', doc='Minimum information gain for a split to be considered at a tree node.'): 0.05}),\n",
              " (0.9104705545480577,\n",
              "  {Param(parent='DecisionTreeClassifier_d2ffaba31c55', name='impurity', doc='Criterion used for information gain calculation (case-insensitive). Supported options: entropy, gini'): 'entropy',\n",
              "   Param(parent='DecisionTreeClassifier_d2ffaba31c55', name='maxDepth', doc='Maximum depth of the tree. (>= 0) E.g., depth 0 means 1 leaf node; depth 1 means 1 internal node + 2 leaf nodes. Must be in range [0, 30].'): 20,\n",
              "   Param(parent='DecisionTreeClassifier_d2ffaba31c55', name='maxBins', doc='Max number of bins for discretizing continuous features.  Must be >=2 and >= number of categories for any categorical feature.'): 40,\n",
              "   Param(parent='DecisionTreeClassifier_d2ffaba31c55', name='minInfoGain', doc='Minimum information gain for a split to be considered at a tree node.'): 0.0}),\n",
              " (0.721733320607044,\n",
              "  {Param(parent='DecisionTreeClassifier_d2ffaba31c55', name='impurity', doc='Criterion used for information gain calculation (case-insensitive). Supported options: entropy, gini'): 'entropy',\n",
              "   Param(parent='DecisionTreeClassifier_d2ffaba31c55', name='maxDepth', doc='Maximum depth of the tree. (>= 0) E.g., depth 0 means 1 leaf node; depth 1 means 1 internal node + 2 leaf nodes. Must be in range [0, 30].'): 20,\n",
              "   Param(parent='DecisionTreeClassifier_d2ffaba31c55', name='maxBins', doc='Max number of bins for discretizing continuous features.  Must be >=2 and >= number of categories for any categorical feature.'): 40,\n",
              "   Param(parent='DecisionTreeClassifier_d2ffaba31c55', name='minInfoGain', doc='Minimum information gain for a split to be considered at a tree node.'): 0.05}),\n",
              " (0.9097642454901212,\n",
              "  {Param(parent='DecisionTreeClassifier_d2ffaba31c55', name='impurity', doc='Criterion used for information gain calculation (case-insensitive). Supported options: entropy, gini'): 'entropy',\n",
              "   Param(parent='DecisionTreeClassifier_d2ffaba31c55', name='maxDepth', doc='Maximum depth of the tree. (>= 0) E.g., depth 0 means 1 leaf node; depth 1 means 1 internal node + 2 leaf nodes. Must be in range [0, 30].'): 20,\n",
              "   Param(parent='DecisionTreeClassifier_d2ffaba31c55', name='maxBins', doc='Max number of bins for discretizing continuous features.  Must be >=2 and >= number of categories for any categorical feature.'): 300,\n",
              "   Param(parent='DecisionTreeClassifier_d2ffaba31c55', name='minInfoGain', doc='Minimum information gain for a split to be considered at a tree node.'): 0.0}),\n",
              " (0.7266393051446025,\n",
              "  {Param(parent='DecisionTreeClassifier_d2ffaba31c55', name='impurity', doc='Criterion used for information gain calculation (case-insensitive). Supported options: entropy, gini'): 'entropy',\n",
              "   Param(parent='DecisionTreeClassifier_d2ffaba31c55', name='maxDepth', doc='Maximum depth of the tree. (>= 0) E.g., depth 0 means 1 leaf node; depth 1 means 1 internal node + 2 leaf nodes. Must be in range [0, 30].'): 20,\n",
              "   Param(parent='DecisionTreeClassifier_d2ffaba31c55', name='maxBins', doc='Max number of bins for discretizing continuous features.  Must be >=2 and >= number of categories for any categorical feature.'): 300,\n",
              "   Param(parent='DecisionTreeClassifier_d2ffaba31c55', name='minInfoGain', doc='Minimum information gain for a split to be considered at a tree node.'): 0.05})]"
            ]
          },
          "metadata": {},
          "execution_count": 37
        }
      ]
    },
    {
      "cell_type": "code",
      "source": [
        "metrics_params.sort(key=lambda x: x[0], reverse=True)\n",
        "metrics_params"
      ],
      "metadata": {
        "colab": {
          "base_uri": "https://localhost:8080/"
        },
        "id": "EflKJLyBbxHJ",
        "outputId": "0e27f1ce-d0a9-4340-80d8-2e62c6f7fa06"
      },
      "execution_count": 38,
      "outputs": [
        {
          "output_type": "execute_result",
          "data": {
            "text/plain": [
              "[(0.9104705545480577,\n",
              "  {Param(parent='DecisionTreeClassifier_d2ffaba31c55', name='impurity', doc='Criterion used for information gain calculation (case-insensitive). Supported options: entropy, gini'): 'entropy',\n",
              "   Param(parent='DecisionTreeClassifier_d2ffaba31c55', name='maxDepth', doc='Maximum depth of the tree. (>= 0) E.g., depth 0 means 1 leaf node; depth 1 means 1 internal node + 2 leaf nodes. Must be in range [0, 30].'): 20,\n",
              "   Param(parent='DecisionTreeClassifier_d2ffaba31c55', name='maxBins', doc='Max number of bins for discretizing continuous features.  Must be >=2 and >= number of categories for any categorical feature.'): 40,\n",
              "   Param(parent='DecisionTreeClassifier_d2ffaba31c55', name='minInfoGain', doc='Minimum information gain for a split to be considered at a tree node.'): 0.0}),\n",
              " (0.9097642454901212,\n",
              "  {Param(parent='DecisionTreeClassifier_d2ffaba31c55', name='impurity', doc='Criterion used for information gain calculation (case-insensitive). Supported options: entropy, gini'): 'entropy',\n",
              "   Param(parent='DecisionTreeClassifier_d2ffaba31c55', name='maxDepth', doc='Maximum depth of the tree. (>= 0) E.g., depth 0 means 1 leaf node; depth 1 means 1 internal node + 2 leaf nodes. Must be in range [0, 30].'): 20,\n",
              "   Param(parent='DecisionTreeClassifier_d2ffaba31c55', name='maxBins', doc='Max number of bins for discretizing continuous features.  Must be >=2 and >= number of categories for any categorical feature.'): 300,\n",
              "   Param(parent='DecisionTreeClassifier_d2ffaba31c55', name='minInfoGain', doc='Minimum information gain for a split to be considered at a tree node.'): 0.0}),\n",
              " (0.9064235945404219,\n",
              "  {Param(parent='DecisionTreeClassifier_d2ffaba31c55', name='impurity', doc='Criterion used for information gain calculation (case-insensitive). Supported options: entropy, gini'): 'gini',\n",
              "   Param(parent='DecisionTreeClassifier_d2ffaba31c55', name='maxDepth', doc='Maximum depth of the tree. (>= 0) E.g., depth 0 means 1 leaf node; depth 1 means 1 internal node + 2 leaf nodes. Must be in range [0, 30].'): 20,\n",
              "   Param(parent='DecisionTreeClassifier_d2ffaba31c55', name='maxBins', doc='Max number of bins for discretizing continuous features.  Must be >=2 and >= number of categories for any categorical feature.'): 40,\n",
              "   Param(parent='DecisionTreeClassifier_d2ffaba31c55', name='minInfoGain', doc='Minimum information gain for a split to be considered at a tree node.'): 0.0}),\n",
              " (0.902911138684738,\n",
              "  {Param(parent='DecisionTreeClassifier_d2ffaba31c55', name='impurity', doc='Criterion used for information gain calculation (case-insensitive). Supported options: entropy, gini'): 'gini',\n",
              "   Param(parent='DecisionTreeClassifier_d2ffaba31c55', name='maxDepth', doc='Maximum depth of the tree. (>= 0) E.g., depth 0 means 1 leaf node; depth 1 means 1 internal node + 2 leaf nodes. Must be in range [0, 30].'): 20,\n",
              "   Param(parent='DecisionTreeClassifier_d2ffaba31c55', name='maxBins', doc='Max number of bins for discretizing continuous features.  Must be >=2 and >= number of categories for any categorical feature.'): 300,\n",
              "   Param(parent='DecisionTreeClassifier_d2ffaba31c55', name='minInfoGain', doc='Minimum information gain for a split to be considered at a tree node.'): 0.0}),\n",
              " (0.7266393051446025,\n",
              "  {Param(parent='DecisionTreeClassifier_d2ffaba31c55', name='impurity', doc='Criterion used for information gain calculation (case-insensitive). Supported options: entropy, gini'): 'entropy',\n",
              "   Param(parent='DecisionTreeClassifier_d2ffaba31c55', name='maxDepth', doc='Maximum depth of the tree. (>= 0) E.g., depth 0 means 1 leaf node; depth 1 means 1 internal node + 2 leaf nodes. Must be in range [0, 30].'): 20,\n",
              "   Param(parent='DecisionTreeClassifier_d2ffaba31c55', name='maxBins', doc='Max number of bins for discretizing continuous features.  Must be >=2 and >= number of categories for any categorical feature.'): 300,\n",
              "   Param(parent='DecisionTreeClassifier_d2ffaba31c55', name='minInfoGain', doc='Minimum information gain for a split to be considered at a tree node.'): 0.05}),\n",
              " (0.721733320607044,\n",
              "  {Param(parent='DecisionTreeClassifier_d2ffaba31c55', name='impurity', doc='Criterion used for information gain calculation (case-insensitive). Supported options: entropy, gini'): 'entropy',\n",
              "   Param(parent='DecisionTreeClassifier_d2ffaba31c55', name='maxDepth', doc='Maximum depth of the tree. (>= 0) E.g., depth 0 means 1 leaf node; depth 1 means 1 internal node + 2 leaf nodes. Must be in range [0, 30].'): 20,\n",
              "   Param(parent='DecisionTreeClassifier_d2ffaba31c55', name='maxBins', doc='Max number of bins for discretizing continuous features.  Must be >=2 and >= number of categories for any categorical feature.'): 40,\n",
              "   Param(parent='DecisionTreeClassifier_d2ffaba31c55', name='minInfoGain', doc='Minimum information gain for a split to be considered at a tree node.'): 0.05}),\n",
              " (0.6729598167414336,\n",
              "  {Param(parent='DecisionTreeClassifier_d2ffaba31c55', name='impurity', doc='Criterion used for information gain calculation (case-insensitive). Supported options: entropy, gini'): 'gini',\n",
              "   Param(parent='DecisionTreeClassifier_d2ffaba31c55', name='maxDepth', doc='Maximum depth of the tree. (>= 0) E.g., depth 0 means 1 leaf node; depth 1 means 1 internal node + 2 leaf nodes. Must be in range [0, 30].'): 20,\n",
              "   Param(parent='DecisionTreeClassifier_d2ffaba31c55', name='maxBins', doc='Max number of bins for discretizing continuous features.  Must be >=2 and >= number of categories for any categorical feature.'): 40,\n",
              "   Param(parent='DecisionTreeClassifier_d2ffaba31c55', name='minInfoGain', doc='Minimum information gain for a split to be considered at a tree node.'): 0.05}),\n",
              " (0.6718908084375298,\n",
              "  {Param(parent='DecisionTreeClassifier_d2ffaba31c55', name='impurity', doc='Criterion used for information gain calculation (case-insensitive). Supported options: entropy, gini'): 'gini',\n",
              "   Param(parent='DecisionTreeClassifier_d2ffaba31c55', name='maxDepth', doc='Maximum depth of the tree. (>= 0) E.g., depth 0 means 1 leaf node; depth 1 means 1 internal node + 2 leaf nodes. Must be in range [0, 30].'): 20,\n",
              "   Param(parent='DecisionTreeClassifier_d2ffaba31c55', name='maxBins', doc='Max number of bins for discretizing continuous features.  Must be >=2 and >= number of categories for any categorical feature.'): 300,\n",
              "   Param(parent='DecisionTreeClassifier_d2ffaba31c55', name='minInfoGain', doc='Minimum information gain for a split to be considered at a tree node.'): 0.05}),\n",
              " (0.6352581845948267,\n",
              "  {Param(parent='DecisionTreeClassifier_d2ffaba31c55', name='impurity', doc='Criterion used for information gain calculation (case-insensitive). Supported options: entropy, gini'): 'gini',\n",
              "   Param(parent='DecisionTreeClassifier_d2ffaba31c55', name='maxDepth', doc='Maximum depth of the tree. (>= 0) E.g., depth 0 means 1 leaf node; depth 1 means 1 internal node + 2 leaf nodes. Must be in range [0, 30].'): 1,\n",
              "   Param(parent='DecisionTreeClassifier_d2ffaba31c55', name='maxBins', doc='Max number of bins for discretizing continuous features.  Must be >=2 and >= number of categories for any categorical feature.'): 40,\n",
              "   Param(parent='DecisionTreeClassifier_d2ffaba31c55', name='minInfoGain', doc='Minimum information gain for a split to be considered at a tree node.'): 0.0}),\n",
              " (0.6352581845948267,\n",
              "  {Param(parent='DecisionTreeClassifier_d2ffaba31c55', name='impurity', doc='Criterion used for information gain calculation (case-insensitive). Supported options: entropy, gini'): 'gini',\n",
              "   Param(parent='DecisionTreeClassifier_d2ffaba31c55', name='maxDepth', doc='Maximum depth of the tree. (>= 0) E.g., depth 0 means 1 leaf node; depth 1 means 1 internal node + 2 leaf nodes. Must be in range [0, 30].'): 1,\n",
              "   Param(parent='DecisionTreeClassifier_d2ffaba31c55', name='maxBins', doc='Max number of bins for discretizing continuous features.  Must be >=2 and >= number of categories for any categorical feature.'): 40,\n",
              "   Param(parent='DecisionTreeClassifier_d2ffaba31c55', name='minInfoGain', doc='Minimum information gain for a split to be considered at a tree node.'): 0.05}),\n",
              " (0.6346091438388852,\n",
              "  {Param(parent='DecisionTreeClassifier_d2ffaba31c55', name='impurity', doc='Criterion used for information gain calculation (case-insensitive). Supported options: entropy, gini'): 'gini',\n",
              "   Param(parent='DecisionTreeClassifier_d2ffaba31c55', name='maxDepth', doc='Maximum depth of the tree. (>= 0) E.g., depth 0 means 1 leaf node; depth 1 means 1 internal node + 2 leaf nodes. Must be in range [0, 30].'): 1,\n",
              "   Param(parent='DecisionTreeClassifier_d2ffaba31c55', name='maxBins', doc='Max number of bins for discretizing continuous features.  Must be >=2 and >= number of categories for any categorical feature.'): 300,\n",
              "   Param(parent='DecisionTreeClassifier_d2ffaba31c55', name='minInfoGain', doc='Minimum information gain for a split to be considered at a tree node.'): 0.0}),\n",
              " (0.6346091438388852,\n",
              "  {Param(parent='DecisionTreeClassifier_d2ffaba31c55', name='impurity', doc='Criterion used for information gain calculation (case-insensitive). Supported options: entropy, gini'): 'gini',\n",
              "   Param(parent='DecisionTreeClassifier_d2ffaba31c55', name='maxDepth', doc='Maximum depth of the tree. (>= 0) E.g., depth 0 means 1 leaf node; depth 1 means 1 internal node + 2 leaf nodes. Must be in range [0, 30].'): 1,\n",
              "   Param(parent='DecisionTreeClassifier_d2ffaba31c55', name='maxBins', doc='Max number of bins for discretizing continuous features.  Must be >=2 and >= number of categories for any categorical feature.'): 300,\n",
              "   Param(parent='DecisionTreeClassifier_d2ffaba31c55', name='minInfoGain', doc='Minimum information gain for a split to be considered at a tree node.'): 0.05}),\n",
              " (0.486799656390188,\n",
              "  {Param(parent='DecisionTreeClassifier_d2ffaba31c55', name='impurity', doc='Criterion used for information gain calculation (case-insensitive). Supported options: entropy, gini'): 'entropy',\n",
              "   Param(parent='DecisionTreeClassifier_d2ffaba31c55', name='maxDepth', doc='Maximum depth of the tree. (>= 0) E.g., depth 0 means 1 leaf node; depth 1 means 1 internal node + 2 leaf nodes. Must be in range [0, 30].'): 1,\n",
              "   Param(parent='DecisionTreeClassifier_d2ffaba31c55', name='maxBins', doc='Max number of bins for discretizing continuous features.  Must be >=2 and >= number of categories for any categorical feature.'): 40,\n",
              "   Param(parent='DecisionTreeClassifier_d2ffaba31c55', name='minInfoGain', doc='Minimum information gain for a split to be considered at a tree node.'): 0.0}),\n",
              " (0.486799656390188,\n",
              "  {Param(parent='DecisionTreeClassifier_d2ffaba31c55', name='impurity', doc='Criterion used for information gain calculation (case-insensitive). Supported options: entropy, gini'): 'entropy',\n",
              "   Param(parent='DecisionTreeClassifier_d2ffaba31c55', name='maxDepth', doc='Maximum depth of the tree. (>= 0) E.g., depth 0 means 1 leaf node; depth 1 means 1 internal node + 2 leaf nodes. Must be in range [0, 30].'): 1,\n",
              "   Param(parent='DecisionTreeClassifier_d2ffaba31c55', name='maxBins', doc='Max number of bins for discretizing continuous features.  Must be >=2 and >= number of categories for any categorical feature.'): 40,\n",
              "   Param(parent='DecisionTreeClassifier_d2ffaba31c55', name='minInfoGain', doc='Minimum information gain for a split to be considered at a tree node.'): 0.05}),\n",
              " (0.486799656390188,\n",
              "  {Param(parent='DecisionTreeClassifier_d2ffaba31c55', name='impurity', doc='Criterion used for information gain calculation (case-insensitive). Supported options: entropy, gini'): 'entropy',\n",
              "   Param(parent='DecisionTreeClassifier_d2ffaba31c55', name='maxDepth', doc='Maximum depth of the tree. (>= 0) E.g., depth 0 means 1 leaf node; depth 1 means 1 internal node + 2 leaf nodes. Must be in range [0, 30].'): 1,\n",
              "   Param(parent='DecisionTreeClassifier_d2ffaba31c55', name='maxBins', doc='Max number of bins for discretizing continuous features.  Must be >=2 and >= number of categories for any categorical feature.'): 300,\n",
              "   Param(parent='DecisionTreeClassifier_d2ffaba31c55', name='minInfoGain', doc='Minimum information gain for a split to be considered at a tree node.'): 0.0}),\n",
              " (0.486799656390188,\n",
              "  {Param(parent='DecisionTreeClassifier_d2ffaba31c55', name='impurity', doc='Criterion used for information gain calculation (case-insensitive). Supported options: entropy, gini'): 'entropy',\n",
              "   Param(parent='DecisionTreeClassifier_d2ffaba31c55', name='maxDepth', doc='Maximum depth of the tree. (>= 0) E.g., depth 0 means 1 leaf node; depth 1 means 1 internal node + 2 leaf nodes. Must be in range [0, 30].'): 1,\n",
              "   Param(parent='DecisionTreeClassifier_d2ffaba31c55', name='maxBins', doc='Max number of bins for discretizing continuous features.  Must be >=2 and >= number of categories for any categorical feature.'): 300,\n",
              "   Param(parent='DecisionTreeClassifier_d2ffaba31c55', name='minInfoGain', doc='Minimum information gain for a split to be considered at a tree node.'): 0.05})]"
            ]
          },
          "metadata": {},
          "execution_count": 38
        }
      ]
    },
    {
      "cell_type": "code",
      "source": [
        "metrics.sort(reverse=True)\n",
        "print(metrics[0])"
      ],
      "metadata": {
        "colab": {
          "base_uri": "https://localhost:8080/"
        },
        "id": "tOyLNf-3b_QI",
        "outputId": "98068dde-4958-4b68-9014-521fa32abddd"
      },
      "execution_count": 39,
      "outputs": [
        {
          "output_type": "stream",
          "name": "stdout",
          "text": [
            "0.9104705545480577\n"
          ]
        }
      ]
    },
    {
      "cell_type": "markdown",
      "source": [
        "Evaluate the best model on the test dataset..."
      ],
      "metadata": {
        "id": "IxUs30GXf5dO"
      }
    },
    {
      "cell_type": "code",
      "source": [
        "multiclassEval.evaluate(best_model.transform(test_data))"
      ],
      "metadata": {
        "colab": {
          "base_uri": "https://localhost:8080/"
        },
        "id": "YuDAKVwkcKA-",
        "outputId": "f881f0f6-e6ae-4e5a-9e81-5709eb0e3b28"
      },
      "execution_count": 40,
      "outputs": [
        {
          "output_type": "execute_result",
          "data": {
            "text/plain": [
              "0.9112771059395863"
            ]
          },
          "metadata": {},
          "execution_count": 40
        }
      ]
    }
  ],
  "metadata": {
    "colab": {
      "provenance": [],
      "authorship_tag": "ABX9TyOXLZgsJqtYhEQh8ks7n8ov",
      "include_colab_link": true
    },
    "kernelspec": {
      "display_name": "Python 3",
      "name": "python3"
    },
    "language_info": {
      "name": "python"
    }
  },
  "nbformat": 4,
  "nbformat_minor": 0
}